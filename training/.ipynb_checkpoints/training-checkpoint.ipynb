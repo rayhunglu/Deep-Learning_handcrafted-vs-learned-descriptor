{
 "cells": [
  {
   "cell_type": "markdown",
   "metadata": {},
   "source": [
    "# Keypoint(Patch) Description\n",
    "  \n",
    "This project will be all about defining and training a convolutional neural network to perform keypoint  description. \n",
    "PyTorch tutorials are available at: https://github.com/yunjey/pytorch-tutorial\n",
    "\n",
    "\n",
    "The first step is to load and visualize the data you'll be working with. \n",
    "\n",
    "We will use below dataset in this project:\n",
    "###  The Photo Tourism dataset \n",
    "(http://phototour.cs.washington.edu/patches/default.htm)\n",
    "\n",
    "It is also available in PyTorch torchvision datasets:\n",
    "https://pytorch.org/docs/stable/_modules/torchvision/datasets/phototour.html#PhotoTour\n",
    "\n",
    "This dataset consists of 1024 x 1024 bitmap (.bmp) images, each containing a 16 x 16 array of image patches. Here are some examples:\n",
    "\n",
    "<table><tr><td><img src='images/patches0001.bmp'></td><td><img src='images/patches1482.bmp'></td></tr></table>    \n",
    "For details of how the scale and orientation is established, please see the paper:  \n",
    "<p class=\"style8\"><font size=\"2\">S. Winder and M. Brown. <strong>Learning Local Image \n",
    "\t\t\t\tDescriptors</strong>. To appear <i>International Conference on \n",
    "\t\t\t\tComputer Vision and Pattern Recognition (CVPR2007)</i> (</font><a href=\"http://research.microsoft.com/~swinder/papers/winder_brown_cvpr07.pdf\"><span class=\"style9\">pdf \n",
    "\t\t\t\t300Kb</span></a><font size=\"2\">)</font></p>\n",
    "\n",
    "\n",
    "\n",
    "---"
   ]
  },
  {
   "cell_type": "markdown",
   "metadata": {},
   "source": [
    "### Import packages"
   ]
  },
  {
   "cell_type": "code",
   "execution_count": 1,
   "metadata": {},
   "outputs": [],
   "source": [
    "from __future__ import division, print_function\n",
    "import glob\n",
    "import os\n",
    "import cv2\n",
    "import PIL\n",
    "import random\n",
    "import numpy as np\n",
    "import pandas as pd\n",
    "import matplotlib.pyplot as plt\n",
    "import matplotlib.image as mpimg\n",
    "import torch\n",
    "import torch.nn.init\n",
    "import torch.nn as nn\n",
    "import torch.optim as optim\n",
    "import torch.backends.cudnn as cudnn\n",
    "import torch.nn.functional as F\n",
    "import torchvision.datasets as dset\n",
    "import torchvision.transforms as transforms\n",
    "from tqdm import tqdm\n",
    "from torch.autograd import Variable\n",
    "from copy import deepcopy, copy\n",
    "from config_profile import args\n",
    "from Utils import cv2_scale36, cv2_scale, np_reshape, np_reshape64, cv2_scale224,np_reshape224,cv2_scale64,np_reshape64"
   ]
  },
  {
   "cell_type": "markdown",
   "metadata": {},
   "source": [
    "### Check GPU availability, using nvidia-smi "
   ]
  },
  {
   "cell_type": "code",
   "execution_count": 2,
   "metadata": {},
   "outputs": [],
   "source": [
    "os.environ[\"CUDA_VISIBLE_DEVICES\"] = \"1\""
   ]
  },
  {
   "cell_type": "markdown",
   "metadata": {},
   "source": [
    "### Define PyTorch dataset"
   ]
  },
  {
   "cell_type": "code",
   "execution_count": 3,
   "metadata": {},
   "outputs": [],
   "source": [
    "class TripletPhotoTour(dset.PhotoTour):\n",
    "    \"\"\"\n",
    "    From the PhotoTour Dataset it generates triplet samples\n",
    "    note: a triplet is composed by a pair of matching images and one of\n",
    "    different class.\n",
    "    \"\"\"\n",
    "    def __init__(self, train=True, transform=None, batch_size = None,load_random_triplets = False,  *arg, **kw):\n",
    "        super(TripletPhotoTour, self).__init__(*arg, **kw)\n",
    "        self.transform = transform\n",
    "        self.out_triplets = load_random_triplets\n",
    "        self.train = train\n",
    "        self.n_triplets = args.n_triplets\n",
    "        self.batch_size = batch_size\n",
    "\n",
    "        if self.train:\n",
    "            print('Generating {} triplets'.format(self.n_triplets))\n",
    "            self.triplets = self.generate_triplets(self.labels, self.n_triplets)\n",
    "\n",
    "    @staticmethod\n",
    "    def generate_triplets(labels, num_triplets):\n",
    "        def create_indices(_labels):\n",
    "            inds = dict()\n",
    "            for idx, ind in enumerate(_labels):\n",
    "                if ind not in inds:\n",
    "                    inds[ind] = []\n",
    "                inds[ind].append(idx)\n",
    "            return inds\n",
    "\n",
    "        triplets = []\n",
    "        indices = create_indices(labels.numpy())\n",
    "        unique_labels = np.unique(labels.numpy())\n",
    "        n_classes = unique_labels.shape[0]\n",
    "        # add only unique indices in batch\n",
    "        already_idxs = set()\n",
    "\n",
    "        for x in tqdm(range(num_triplets)):\n",
    "            if len(already_idxs) >= args.batch_size:\n",
    "                already_idxs = set()\n",
    "            c1 = np.random.randint(0, n_classes)\n",
    "            while c1 in already_idxs:\n",
    "                c1 = np.random.randint(0, n_classes)\n",
    "            already_idxs.add(c1)\n",
    "            c2 = np.random.randint(0, n_classes)\n",
    "            while c1 == c2:\n",
    "                c2 = np.random.randint(0, n_classes)\n",
    "            if len(indices[c1]) == 2:  # hack to speed up process\n",
    "                n1, n2 = 0, 1\n",
    "            else:\n",
    "                n1 = np.random.randint(0, len(indices[c1]))\n",
    "                n2 = np.random.randint(0, len(indices[c1]))\n",
    "                while n1 == n2:\n",
    "                    n2 = np.random.randint(0, len(indices[c1]))\n",
    "            n3 = np.random.randint(0, len(indices[c2]))\n",
    "            triplets.append([indices[c1][n1], indices[c1][n2], indices[c2][n3]])\n",
    "        return torch.LongTensor(np.array(triplets))\n",
    "\n",
    "    def __getitem__(self, index):\n",
    "        def transform_img(img):\n",
    "            if self.transform is not None:\n",
    "                img = self.transform(img.numpy())\n",
    "            return img\n",
    "\n",
    "        if not self.train:\n",
    "            m = self.matches[index]\n",
    "            img1 = transform_img(self.data[m[0]])\n",
    "            img2 = transform_img(self.data[m[1]])\n",
    "            return img1, img2, m[2]\n",
    "\n",
    "        t = self.triplets[index]\n",
    "        a, p, n = self.data[t[0]], self.data[t[1]], self.data[t[2]]\n",
    "\n",
    "        img_a = transform_img(a)\n",
    "        img_p = transform_img(p)\n",
    "        img_n = None\n",
    "        if self.out_triplets:\n",
    "            img_n = transform_img(n)\n",
    "        # transform images if required\n",
    "        if args.fliprot:\n",
    "            do_flip = random.random() > 0.5\n",
    "            do_rot = random.random() > 0.5\n",
    "            if do_rot:\n",
    "                img_a = img_a.permute(0,2,1)\n",
    "                img_p = img_p.permute(0,2,1)\n",
    "                if self.out_triplets:\n",
    "                    img_n = img_n.permute(0,2,1)\n",
    "            if do_flip:\n",
    "                img_a = torch.from_numpy(deepcopy(img_a.numpy()[:,:,::-1]))\n",
    "                img_p = torch.from_numpy(deepcopy(img_p.numpy()[:,:,::-1]))\n",
    "                if self.out_triplets:\n",
    "                    img_n = torch.from_numpy(deepcopy(img_n.numpy()[:,:,::-1]))\n",
    "        if self.out_triplets:\n",
    "            return (img_a, img_p, img_n)\n",
    "        else:\n",
    "            return (img_a, img_p)\n",
    "\n",
    "    def __len__(self):\n",
    "        if self.train:\n",
    "            return self.triplets.size(0)\n",
    "        else:\n",
    "            return self.matches.size(0)"
   ]
  },
  {
   "cell_type": "markdown",
   "metadata": {},
   "source": [
    "### Define the dataloader"
   ]
  },
  {
   "cell_type": "code",
   "execution_count": 4,
   "metadata": {},
   "outputs": [],
   "source": [
    "def create_loaders(dataset_names, load_random_triplets = False):\n",
    "    test_dataset_names = copy(dataset_names)\n",
    "    test_dataset_names.remove(args.training_set)\n",
    "\n",
    "    kwargs = {'num_workers': args.num_workers, 'pin_memory': args.pin_memory} if args.cuda else {}\n",
    "\n",
    "    np_reshape64 = lambda x: np.reshape(x, (64, 64, 1))\n",
    "    transform_test = transforms.Compose([\n",
    "            transforms.Lambda(np_reshape64),\n",
    "            transforms.ToPILImage(),\n",
    "            transforms.Resize(32),\n",
    "            transforms.ToTensor()])\n",
    "    transform_train = transforms.Compose([\n",
    "            transforms.Lambda(np_reshape64),\n",
    "            transforms.ToPILImage(),\n",
    "            transforms.RandomRotation(5,PIL.Image.BILINEAR),\n",
    "            transforms.RandomResizedCrop(32, scale = (0.9,1.0),ratio = (0.9,1.1)),\n",
    "            transforms.Resize(32),\n",
    "            transforms.ToTensor()])\n",
    "    transform = transforms.Compose([\n",
    "            transforms.Lambda(cv2_scale),\n",
    "            transforms.Lambda(np_reshape),\n",
    "            transforms.ToTensor(),\n",
    "            transforms.Normalize((args.mean_image,), (args.std_image,))])\n",
    "#     transform = transforms.Compose([\n",
    "#             transforms.Lambda(np_reshape64),\n",
    "#             transforms.ToPILImage(),\n",
    "#             transforms.Resize(64),\n",
    "#             transforms.ToTensor(),\n",
    "#             transforms.Normalize((args.mean_image,), (args.std_image,))\n",
    "#        ])\n",
    "#     transform = transforms.Compose([\n",
    "#                 transforms.Lambda(cv2_scale64),\n",
    "#                 transforms.Lambda(np_reshape64),\n",
    "#                 transforms.ToPILImage(),\n",
    "#                 transforms.Resize((64, 64)),\n",
    "#                 transforms.ToTensor()\n",
    "#             ,\n",
    "#                transforms.Normalize((args.mean_image,), (args.std_image,))\n",
    "#         ])\n",
    "#     transform = transforms.Compose([\n",
    "#                 transforms.Lambda(cv2_scale224),\n",
    "#                 transforms.Lambda(np_reshape224),\n",
    "#                 transforms.ToPILImage(),\n",
    "#                 transforms.Resize((224, 224)),\n",
    "#                 transforms.ToTensor()\n",
    "#             ,\n",
    "#                transforms.Normalize((args.mean_image,), (args.std_image,))\n",
    "#         ])\n",
    "    \n",
    "    if not args.augmentation:\n",
    "        transform_train = transform\n",
    "        transform_test = transform\n",
    "    train_loader = torch.utils.data.DataLoader(\n",
    "            TripletPhotoTour(train=True,\n",
    "                             load_random_triplets = load_random_triplets,\n",
    "                             batch_size=args.batch_size,\n",
    "                             root=args.dataroot,\n",
    "                             name=args.training_set,\n",
    "                             download=True,\n",
    "                             transform=transform_train),\n",
    "                             batch_size=args.batch_size,\n",
    "                             shuffle=True, **kwargs)\n",
    "\n",
    "    test_loaders = [{'name': name,\n",
    "                     'dataloader': torch.utils.data.DataLoader(\n",
    "             TripletPhotoTour(train=False,\n",
    "                     batch_size=args.test_batch_size,\n",
    "                     root=args.dataroot,\n",
    "                     name=name,\n",
    "                     download=True,\n",
    "                     transform=transform_test),\n",
    "                        batch_size=args.test_batch_size,\n",
    "                        shuffle=False, **kwargs)}\n",
    "                    for name in test_dataset_names]\n",
    "\n",
    "    return train_loader, test_loaders"
   ]
  },
  {
   "cell_type": "markdown",
   "metadata": {},
   "source": [
    "### Load Data\n",
    "\n",
    "Load the Photo Tourism dataset by PyTorch. Below line (function 'create_loader') will help you to download the dataset to your directory. The data dir and other configuration setings are specified in config_profile.py.\n"
   ]
  },
  {
   "cell_type": "code",
   "execution_count": 5,
   "metadata": {},
   "outputs": [
    {
     "name": "stdout",
     "output_type": "stream",
     "text": [
      "# Found cached data data/sets/liberty.pt\n",
      "Generating 100000 triplets\n"
     ]
    },
    {
     "name": "stderr",
     "output_type": "stream",
     "text": [
      "100%|██████████| 100000/100000 [00:00<00:00, 107190.25it/s]\n"
     ]
    },
    {
     "name": "stdout",
     "output_type": "stream",
     "text": [
      "# Found cached data data/sets/notredame.pt\n",
      "# Found cached data data/sets/yosemite.pt\n"
     ]
    }
   ],
   "source": [
    "dataset_names = ['liberty', 'notredame', 'yosemite']\n",
    "train_loader, test_loaders = create_loaders(dataset_names, load_random_triplets = args.load_random_triplets)"
   ]
  },
  {
   "cell_type": "markdown",
   "metadata": {},
   "source": [
    "---\n",
    "##  Visualizaiton of the Training and Testing Data\n",
    "Below are some examples of patches in this dataset.\n",
    "\n",
    "#### Training\n",
    "In the training phase, the input data is a batch of patch pairs: X = {(patch_a, patch_p)}, which represents the anchor patch and the positive patch, respectively. \n",
    "\n",
    "---"
   ]
  },
  {
   "cell_type": "code",
   "execution_count": 6,
   "metadata": {},
   "outputs": [
    {
     "name": "stdout",
     "output_type": "stream",
     "text": [
      "IN TRAINing, each data entry has 2 elements, each with size of: \n",
      "torch.Size([512, 1, 32, 32])\n",
      "Below two rows images are 3 examples for patch_a and patch_p\n"
     ]
    },
    {
     "data": {
      "image/png": "[encoded data removed]",
      "text/plain": [
       "<Figure size 432x288 with 3 Axes>"
      ]
     },
     "metadata": {
      "needs_background": "light"
     },
     "output_type": "display_data"
    },
    {
     "data": {
      "image/png": "[encoded data removed]",
      "text/plain": [
       "<Figure size 432x288 with 3 Axes>"
      ]
     },
     "metadata": {
      "needs_background": "light"
     },
     "output_type": "display_data"
    }
   ],
   "source": [
    "nrow = 3  \n",
    "def plot_examples(img_tensor, nrow):  \n",
    "    fig, axs = plt.subplots(1, nrow)\n",
    "    for i, ax in enumerate(axs):\n",
    "        img = img_tensor[i, 0]\n",
    "        ax.imshow(img)\n",
    "        ax.axis('off')\n",
    "\n",
    "for i_batch, sample_batched in enumerate(train_loader):\n",
    "    print(\"IN TRAINing, each data entry has {} elements, each with size of: \".format(len(sample_batched)))\n",
    "    print(sample_batched[0].shape)\n",
    "    print(\"Below two rows images are {} examples for patch_a and patch_p\".format(nrow))\n",
    "    if i_batch == 0:\n",
    "        plot_examples(sample_batched[0], nrow)\n",
    "        plot_examples(sample_batched[1], nrow)\n",
    "        plt.show()\n",
    "        break"
   ]
  },
  {
   "cell_type": "markdown",
   "metadata": {},
   "source": [
    "#### Testing\n",
    "In the testing phase, the input data is a batch of patch pairs, and a label that indicates the matching result of this pair (1 means match and 0 means not match)"
   ]
  },
  {
   "cell_type": "code",
   "execution_count": 7,
   "metadata": {},
   "outputs": [
    {
     "name": "stdout",
     "output_type": "stream",
     "text": [
      "IN TESTING, each data entry has 3 elements, with size of: torch.Size([512, 1, 32, 32]), torch.Size([512, 1, 32, 32]), and torch.Size([512])\n",
      "\n",
      "Below two rows images are 3 examples for for patch_a and patch_p.\n",
      "labels are : tensor([0, 0, 1])\n"
     ]
    },
    {
     "data": {
      "image/png": "[encoded data removed]",
      "text/plain": [
       "<Figure size 432x288 with 3 Axes>"
      ]
     },
     "metadata": {
      "needs_background": "light"
     },
     "output_type": "display_data"
    },
    {
     "data": {
      "image/png": "[encoded data removed]",
      "text/plain": [
       "<Figure size 432x288 with 3 Axes>"
      ]
     },
     "metadata": {
      "needs_background": "light"
     },
     "output_type": "display_data"
    }
   ],
   "source": [
    "for i_batch, sample_batched in enumerate(test_loaders[0]['dataloader']):\n",
    "    print(\"IN TESTING, each data entry has {} elements, with size of: {}, {}, and {}\".format(len(sample_batched), \n",
    "                                                                                             sample_batched[0].shape, \n",
    "                                                                                             sample_batched[1].shape, \n",
    "                                                                                             sample_batched[2].shape))\n",
    "    print(\"\\nBelow two rows images are {} examples for for patch_a and patch_p.\".format(nrow))\n",
    "    if i_batch == 0:\n",
    "        plot_examples(sample_batched[0], nrow)\n",
    "        plot_examples(sample_batched[1], nrow)\n",
    "        print(\"labels are :\", sample_batched[2][:nrow])\n",
    "        plt.show()\n",
    "        break"
   ]
  },
  {
   "cell_type": "markdown",
   "metadata": {},
   "source": [
    "---\n",
    "### Build Network Model\n",
    "The DesNet is a simple CNN network, which only contains two CNN blocks."
   ]
  },
  {
   "cell_type": "code",
   "execution_count": 8,
   "metadata": {},
   "outputs": [],
   "source": [
    "# load network\n",
    "from Matchnet import DesNet\n",
    "model = DesNet()\n",
    "if args.cuda:\n",
    "        model.cuda()"
   ]
  },
  {
   "cell_type": "markdown",
   "metadata": {},
   "source": [
    "### Define optimize\n",
    "We will use SGD, but you can change it to ADAM by modifying arg.lr in config_profile.py"
   ]
  },
  {
   "cell_type": "code",
   "execution_count": 9,
   "metadata": {},
   "outputs": [],
   "source": [
    "# define optimizer\n",
    "def create_optimizer(model, new_lr):\n",
    "    # setup optimizer\n",
    "    if args.optimizer == 'sgd':\n",
    "        optimizer = optim.SGD(model.parameters(), lr=new_lr,\n",
    "                              momentum=0.9, dampening=0.9,\n",
    "                              weight_decay=args.wd)\n",
    "    elif args.optimizer == 'adam':\n",
    "        optimizer = optim.Adam(model.parameters(), lr=new_lr,\n",
    "                               weight_decay=args.wd)\n",
    "    else:\n",
    "        raise Exception('Not supported optimizer: {0}'.format(args.optimizer))\n",
    "    return optimizer\n",
    "optimizer1 = create_optimizer(model, args.lr)"
   ]
  },
  {
   "cell_type": "markdown",
   "metadata": {},
   "source": [
    "### Define a training module"
   ]
  },
  {
   "cell_type": "code",
   "execution_count": 10,
   "metadata": {},
   "outputs": [],
   "source": [
    "def train(train_loader, model, optimizer, epoch, logger, load_triplets  = False):\n",
    "    # switch to train mode\n",
    "    model.train()\n",
    "    pbar = tqdm(enumerate(train_loader))\n",
    "    for batch_idx, data in pbar:\n",
    "        if load_triplets:\n",
    "            data_a, data_p, data_n = data\n",
    "        else:\n",
    "            data_a, data_p = data\n",
    "\n",
    "        if args.cuda:\n",
    "            data_a, data_p  = data_a.cuda(), data_p.cuda()\n",
    "            data_a, data_p = Variable(data_a), Variable(data_p)\n",
    "            out_a = model(data_a)\n",
    "            out_p = model(data_p)\n",
    "        if load_triplets:\n",
    "            data_n  = data_n.cuda()\n",
    "            data_n = Variable(data_n)\n",
    "            out_n = model(data_n)\n",
    "        \n",
    "        \n",
    "        loss = loss_DesNet(out_a, out_p,\n",
    "                        margin=args.margin,\n",
    "                        anchor_swap=args.anchorswap,\n",
    "                        anchor_ave=args.anchorave,\n",
    "                        batch_reduce = args.batch_reduce,\n",
    "                        loss_type = args.loss)\n",
    "\n",
    "        if args.decor:\n",
    "            loss += CorrelationPenaltyLoss()(out_a)\n",
    "            \n",
    "        if args.gor:\n",
    "            loss += args.alpha*global_orthogonal_regularization(out_a, out_n)\n",
    "            \n",
    "        optimizer.zero_grad()\n",
    "        loss.backward()\n",
    "        optimizer.step()\n",
    "        adjust_learning_rate(optimizer)\n",
    "        if batch_idx % args.log_interval == 0:\n",
    "            pbar.set_description(\n",
    "                'Train Epoch: {} [{}/{} ({:.0f}%)]\\tLoss: {:.6f}'.format(\n",
    "                    epoch, batch_idx * len(data_a), len(train_loader.dataset),\n",
    "                           100. * batch_idx / len(train_loader),\n",
    "                    loss.item()))\n",
    "\n",
    "    if (args.enable_logging):\n",
    "#         logger.log_value('loss', loss.data[0]).step()\n",
    "        logger.log_value('loss', loss.item()).step()\n",
    "\n",
    "    try:\n",
    "        os.stat('{}{}'.format(args.model_dir,suffix))\n",
    "    except:\n",
    "        os.makedirs('{}{}'.format(args.model_dir,suffix))\n",
    "\n",
    "    torch.save({'epoch': epoch + 1, 'state_dict': model.state_dict()},\n",
    "               '{}{}/checkpoint_{}.pth'.format(args.model_dir,suffix,epoch))\n",
    "    \n",
    "    \n",
    "def adjust_learning_rate(optimizer):\n",
    "    \"\"\"Updates the learning rate given the learning rate decay.\n",
    "    The routine has been implemented according to the original Lua SGD optimizer\n",
    "    \"\"\"\n",
    "    for group in optimizer.param_groups:\n",
    "        if 'step' not in group:\n",
    "            group['step'] = 0.\n",
    "        else:\n",
    "            group['step'] += 1.\n",
    "        group['lr'] = args.lr * (\n",
    "        1.0 - float(group['step']) * float(args.batch_size) / (args.n_triplets * float(args.epochs)))\n",
    "    return"
   ]
  },
  {
   "cell_type": "markdown",
   "metadata": {},
   "source": [
    "### Define a test module"
   ]
  },
  {
   "cell_type": "code",
   "execution_count": 11,
   "metadata": {},
   "outputs": [],
   "source": [
    "def test(test_loader, model, epoch, logger, logger_test_name):\n",
    "    # switch to evaluate mode\n",
    "    model.eval()\n",
    "\n",
    "    labels, distances = [], []\n",
    "\n",
    "    pbar = tqdm(enumerate(test_loader))\n",
    "    for batch_idx, (data_a, data_p, label) in pbar:\n",
    "        # data_a.shape= torch.Size([1024, 1, 32, 32]) \n",
    "        # data_p.shape =torch.Size([1024, 1, 32, 32]) \n",
    "        # label.shape = torch.Size([1024])\n",
    "        if args.cuda:\n",
    "            data_a, data_p = data_a.cuda(), data_p.cuda()\n",
    "\n",
    "        data_a, data_p, label = Variable(data_a, volatile=True), \\\n",
    "                                Variable(data_p, volatile=True), Variable(label)\n",
    "        out_a = model(data_a)\n",
    "        out_p = model(data_p)\n",
    "        dists = torch.sqrt(torch.sum((out_a - out_p) ** 2, 1))  # euclidean distance\n",
    "        distances.append(dists.data.cpu().numpy().reshape(-1,1))\n",
    "        ll = label.data.cpu().numpy().reshape(-1, 1)\n",
    "        labels.append(ll)\n",
    "\n",
    "        if batch_idx % args.log_interval == 0:\n",
    "            pbar.set_description(logger_test_name+' Test Epoch: {} [{}/{} ({:.0f}%)]'.format(\n",
    "                epoch, batch_idx * len(data_a), len(test_loader.dataset),\n",
    "                       100. * batch_idx / len(test_loader)))\n",
    "\n",
    "    num_tests = test_loader.dataset.matches.size(0)\n",
    "    labels = np.vstack(labels).reshape(num_tests)\n",
    "    distances = np.vstack (distances).reshape(num_tests)\n",
    "\n",
    "    fpr95 = ErrorRateAt95Recall(labels, 1.0 / (distances + 1e-8))\n",
    "    print('\\33[91mTest set: Accuracy(FPR95): {:.8f}\\n\\33[0m'.format(fpr95))\n",
    "\n",
    "    if (args.enable_logging):\n",
    "        logger.log_value(logger_test_name+' fpr95', fpr95)\n",
    "    return\n",
    "\n",
    "\n",
    "def ErrorRateAt95Recall(labels, scores):\n",
    "    distances = 1.0 / (scores + 1e-8)\n",
    "    recall_point = 0.95\n",
    "    labels = labels[np.argsort(distances)]\n",
    "    # Sliding threshold: get first index where recall >= recall_point. \n",
    "    # This is the index where the number of elements with label==1 below the threshold reaches a fraction of \n",
    "    # 'recall_point' of the total number of elements with label==1. \n",
    "    # (np.argmax returns the first occurrence of a '1' in a bool array). \n",
    "    threshold_index = np.argmax(np.cumsum(labels) >= recall_point * np.sum(labels)) \n",
    "\n",
    "    FP = np.sum(labels[:threshold_index] == 0) # Below threshold (i.e., labelled positive), but should be negative\n",
    "    TN = np.sum(labels[threshold_index:] == 0) # Above threshold (i.e., labelled negative), and should be negative\n",
    "    return float(FP) / float(FP + TN)"
   ]
  },
  {
   "cell_type": "markdown",
   "metadata": {},
   "source": [
    "### Training "
   ]
  },
  {
   "cell_type": "code",
   "execution_count": 12,
   "metadata": {},
   "outputs": [
    {
     "name": "stderr",
     "output_type": "stream",
     "text": [
      "Train Epoch: 0 [97280/100000 (97%)]\tLoss: 1.001800: : 196it [00:35,  5.55it/s]\n",
      "0it [00:00, ?it/s]/nfs/stak/users/lujui/lu/miniconda3/envs/myenv/lib/python3.6/site-packages/ipykernel_launcher.py:15: UserWarning: volatile was removed and now has no effect. Use `with torch.no_grad():` instead.\n",
      "  from ipykernel import kernelapp as app\n",
      "/nfs/stak/users/lujui/lu/miniconda3/envs/myenv/lib/python3.6/site-packages/ipykernel_launcher.py:16: UserWarning: volatile was removed and now has no effect. Use `with torch.no_grad():` instead.\n",
      "  app.launch_new_instance()\n",
      "notredame Test Epoch: 0 [97280/100000 (97%)]: : 196it [00:20,  9.42it/s]\n",
      "yosemite Test Epoch: 0 [0/100000 (0%)]: : 1it [00:00,  9.20it/s]"
     ]
    },
    {
     "name": "stdout",
     "output_type": "stream",
     "text": [
      "\u001b[91mTest set: Accuracy(FPR95): 0.59982000\n",
      "\u001b[0m\n"
     ]
    },
    {
     "name": "stderr",
     "output_type": "stream",
     "text": [
      "yosemite Test Epoch: 0 [97280/100000 (97%)]: : 196it [00:20, 11.11it/s]\n"
     ]
    },
    {
     "name": "stdout",
     "output_type": "stream",
     "text": [
      "\u001b[91mTest set: Accuracy(FPR95): 0.66048000\n",
      "\u001b[0m\n",
      "# Found cached data data/sets/liberty.pt\n"
     ]
    },
    {
     "name": "stderr",
     "output_type": "stream",
     "text": [
      "100%|██████████| 100000/100000 [00:00<00:00, 103609.70it/s]\n"
     ]
    },
    {
     "name": "stdout",
     "output_type": "stream",
     "text": [
      "Generating 100000 triplets\n",
      "# Found cached data data/sets/notredame.pt\n",
      "# Found cached data data/sets/yosemite.pt\n"
     ]
    },
    {
     "name": "stderr",
     "output_type": "stream",
     "text": [
      "Train Epoch: 1 [97280/100000 (97%)]\tLoss: 1.000551: : 196it [00:34,  5.72it/s]\n",
      "notredame Test Epoch: 1 [97280/100000 (97%)]: : 196it [00:20,  9.36it/s]\n",
      "yosemite Test Epoch: 1 [0/100000 (0%)]: : 1it [00:00,  9.55it/s]"
     ]
    },
    {
     "name": "stdout",
     "output_type": "stream",
     "text": [
      "\u001b[91mTest set: Accuracy(FPR95): 0.48572000\n",
      "\u001b[0m\n"
     ]
    },
    {
     "name": "stderr",
     "output_type": "stream",
     "text": [
      "yosemite Test Epoch: 1 [97280/100000 (97%)]: : 196it [00:20,  9.51it/s]\n"
     ]
    },
    {
     "name": "stdout",
     "output_type": "stream",
     "text": [
      "\u001b[91mTest set: Accuracy(FPR95): 0.56706000\n",
      "\u001b[0m\n",
      "# Found cached data data/sets/liberty.pt\n"
     ]
    },
    {
     "name": "stderr",
     "output_type": "stream",
     "text": [
      "100%|██████████| 100000/100000 [00:00<00:00, 108206.76it/s]\n"
     ]
    },
    {
     "name": "stdout",
     "output_type": "stream",
     "text": [
      "Generating 100000 triplets\n",
      "# Found cached data data/sets/notredame.pt\n"
     ]
    },
    {
     "name": "stderr",
     "output_type": "stream",
     "text": [
      "Train Epoch: 2 [97280/100000 (97%)]\tLoss: 1.000231: : 196it [00:33,  5.78it/s]\n",
      "notredame Test Epoch: 2 [97280/100000 (97%)]: : 196it [00:20,  9.72it/s]\n",
      "yosemite Test Epoch: 2 [0/100000 (0%)]: : 1it [00:00,  9.39it/s]"
     ]
    },
    {
     "name": "stdout",
     "output_type": "stream",
     "text": [
      "# Found cached data data/sets/yosemite.pt\n",
      "\u001b[91mTest set: Accuracy(FPR95): 0.42564000\n",
      "\u001b[0m\n"
     ]
    },
    {
     "name": "stderr",
     "output_type": "stream",
     "text": [
      "yosemite Test Epoch: 2 [97280/100000 (97%)]: : 196it [00:20, 10.96it/s]\n"
     ]
    },
    {
     "name": "stdout",
     "output_type": "stream",
     "text": [
      "\u001b[91mTest set: Accuracy(FPR95): 0.53520000\n",
      "\u001b[0m\n",
      "# Found cached data data/sets/liberty.pt\n",
      "Generating 100000 triplets\n"
     ]
    },
    {
     "name": "stderr",
     "output_type": "stream",
     "text": [
      "100%|██████████| 100000/100000 [00:00<00:00, 116656.40it/s]\n"
     ]
    },
    {
     "name": "stdout",
     "output_type": "stream",
     "text": [
      "# Found cached data data/sets/notredame.pt\n"
     ]
    },
    {
     "name": "stderr",
     "output_type": "stream",
     "text": [
      "Train Epoch: 3 [97280/100000 (97%)]\tLoss: 1.000086: : 196it [00:34,  5.74it/s]\n",
      "notredame Test Epoch: 3 [97280/100000 (97%)]: : 196it [00:19,  9.98it/s]\n",
      "yosemite Test Epoch: 3 [0/100000 (0%)]: : 1it [00:00,  9.58it/s]"
     ]
    },
    {
     "name": "stdout",
     "output_type": "stream",
     "text": [
      "# Found cached data data/sets/yosemite.pt\n",
      "\u001b[91mTest set: Accuracy(FPR95): 0.38716000\n",
      "\u001b[0m\n"
     ]
    },
    {
     "name": "stderr",
     "output_type": "stream",
     "text": [
      "yosemite Test Epoch: 3 [97280/100000 (97%)]: : 196it [00:20,  9.59it/s]\n"
     ]
    },
    {
     "name": "stdout",
     "output_type": "stream",
     "text": [
      "\u001b[91mTest set: Accuracy(FPR95): 0.49422000\n",
      "\u001b[0m\n",
      "# Found cached data data/sets/liberty.pt\n"
     ]
    },
    {
     "name": "stderr",
     "output_type": "stream",
     "text": [
      "100%|██████████| 100000/100000 [00:00<00:00, 104762.63it/s]\n"
     ]
    },
    {
     "name": "stdout",
     "output_type": "stream",
     "text": [
      "Generating 100000 triplets\n",
      "# Found cached data data/sets/notredame.pt\n",
      "# Found cached data data/sets/yosemite.pt\n"
     ]
    },
    {
     "name": "stderr",
     "output_type": "stream",
     "text": [
      "Train Epoch: 4 [97280/100000 (97%)]\tLoss: 1.000060: : 196it [00:34,  5.67it/s]\n",
      "notredame Test Epoch: 4 [97280/100000 (97%)]: : 196it [00:22,  8.68it/s]\n",
      "yosemite Test Epoch: 4 [0/100000 (0%)]: : 1it [00:00,  9.24it/s]"
     ]
    },
    {
     "name": "stdout",
     "output_type": "stream",
     "text": [
      "\u001b[91mTest set: Accuracy(FPR95): 0.35030000\n",
      "\u001b[0m\n"
     ]
    },
    {
     "name": "stderr",
     "output_type": "stream",
     "text": [
      "yosemite Test Epoch: 4 [97280/100000 (97%)]: : 196it [00:20,  9.60it/s]\n"
     ]
    },
    {
     "name": "stdout",
     "output_type": "stream",
     "text": [
      "\u001b[91mTest set: Accuracy(FPR95): 0.45362000\n",
      "\u001b[0m\n",
      "# Found cached data data/sets/liberty.pt\n"
     ]
    },
    {
     "name": "stderr",
     "output_type": "stream",
     "text": [
      "100%|██████████| 100000/100000 [00:01<00:00, 88099.31it/s]\n"
     ]
    },
    {
     "name": "stdout",
     "output_type": "stream",
     "text": [
      "Generating 100000 triplets\n",
      "# Found cached data data/sets/notredame.pt\n",
      "# Found cached data data/sets/yosemite.pt"
     ]
    },
    {
     "name": "stderr",
     "output_type": "stream",
     "text": [
      "Train Epoch: 5 [97280/100000 (97%)]\tLoss: 1.000184: : 196it [00:32,  5.97it/s]\n",
      "notredame Test Epoch: 5 [97280/100000 (97%)]: : 196it [00:19,  9.86it/s]\n",
      "yosemite Test Epoch: 5 [0/100000 (0%)]: : 1it [00:00,  9.98it/s]"
     ]
    },
    {
     "name": "stdout",
     "output_type": "stream",
     "text": [
      "\n",
      "\u001b[91mTest set: Accuracy(FPR95): 0.31008000\n",
      "\u001b[0m\n"
     ]
    },
    {
     "name": "stderr",
     "output_type": "stream",
     "text": [
      "yosemite Test Epoch: 5 [97280/100000 (97%)]: : 196it [00:20,  9.71it/s]\n"
     ]
    },
    {
     "name": "stdout",
     "output_type": "stream",
     "text": [
      "\u001b[91mTest set: Accuracy(FPR95): 0.41072000\n",
      "\u001b[0m\n",
      "# Found cached data data/sets/liberty.pt\n"
     ]
    },
    {
     "name": "stderr",
     "output_type": "stream",
     "text": [
      "100%|██████████| 100000/100000 [00:00<00:00, 101716.32it/s]\n"
     ]
    },
    {
     "name": "stdout",
     "output_type": "stream",
     "text": [
      "Generating 100000 triplets\n",
      "# Found cached data data/sets/notredame.pt\n",
      "# Found cached data data/sets/yosemite.pt\n"
     ]
    },
    {
     "name": "stderr",
     "output_type": "stream",
     "text": [
      "Train Epoch: 6 [97280/100000 (97%)]\tLoss: 0.999915: : 196it [00:32,  5.96it/s]\n",
      "notredame Test Epoch: 6 [97280/100000 (97%)]: : 196it [00:23,  8.30it/s]\n",
      "yosemite Test Epoch: 6 [0/100000 (0%)]: : 1it [00:00,  9.53it/s]"
     ]
    },
    {
     "name": "stdout",
     "output_type": "stream",
     "text": [
      "\u001b[91mTest set: Accuracy(FPR95): 0.27880000\n",
      "\u001b[0m\n"
     ]
    },
    {
     "name": "stderr",
     "output_type": "stream",
     "text": [
      "yosemite Test Epoch: 6 [97280/100000 (97%)]: : 196it [00:20,  9.57it/s]\n"
     ]
    },
    {
     "name": "stdout",
     "output_type": "stream",
     "text": [
      "\u001b[91mTest set: Accuracy(FPR95): 0.37050000\n",
      "\u001b[0m\n",
      "# Found cached data data/sets/liberty.pt\n"
     ]
    },
    {
     "name": "stderr",
     "output_type": "stream",
     "text": [
      "100%|██████████| 100000/100000 [00:00<00:00, 104921.05it/s]\n"
     ]
    },
    {
     "name": "stdout",
     "output_type": "stream",
     "text": [
      "Generating 100000 triplets\n",
      "# Found cached data data/sets/notredame.pt\n"
     ]
    },
    {
     "name": "stderr",
     "output_type": "stream",
     "text": [
      "Train Epoch: 7 [97280/100000 (97%)]\tLoss: 1.000073: : 196it [00:34,  5.68it/s]\n",
      "notredame Test Epoch: 7 [97280/100000 (97%)]: : 196it [00:20,  9.66it/s]\n",
      "yosemite Test Epoch: 7 [0/100000 (0%)]: : 1it [00:00,  9.06it/s]"
     ]
    },
    {
     "name": "stdout",
     "output_type": "stream",
     "text": [
      "# Found cached data data/sets/yosemite.pt\n",
      "\u001b[91mTest set: Accuracy(FPR95): 0.25128000\n",
      "\u001b[0m\n"
     ]
    },
    {
     "name": "stderr",
     "output_type": "stream",
     "text": [
      "yosemite Test Epoch: 7 [97280/100000 (97%)]: : 196it [00:20,  9.55it/s]\n"
     ]
    },
    {
     "name": "stdout",
     "output_type": "stream",
     "text": [
      "\u001b[91mTest set: Accuracy(FPR95): 0.34246000\n",
      "\u001b[0m\n",
      "# Found cached data data/sets/liberty.pt\n",
      "Generating 100000 triplets"
     ]
    },
    {
     "name": "stderr",
     "output_type": "stream",
     "text": [
      "100%|██████████| 100000/100000 [00:00<00:00, 109239.55it/s]\n"
     ]
    },
    {
     "name": "stdout",
     "output_type": "stream",
     "text": [
      "\n",
      "# Found cached data data/sets/notredame.pt\n"
     ]
    },
    {
     "name": "stderr",
     "output_type": "stream",
     "text": [
      "Train Epoch: 8 [97280/100000 (97%)]\tLoss: 0.999741: : 196it [00:34,  5.63it/s]\n",
      "notredame Test Epoch: 8 [97280/100000 (97%)]: : 196it [00:24,  7.95it/s]\n",
      "yosemite Test Epoch: 8 [0/100000 (0%)]: : 1it [00:00,  7.99it/s]"
     ]
    },
    {
     "name": "stdout",
     "output_type": "stream",
     "text": [
      "# Found cached data data/sets/yosemite.pt\n",
      "\u001b[91mTest set: Accuracy(FPR95): 0.22602000\n",
      "\u001b[0m\n"
     ]
    },
    {
     "name": "stderr",
     "output_type": "stream",
     "text": [
      "yosemite Test Epoch: 8 [97280/100000 (97%)]: : 196it [00:25,  7.77it/s]\n"
     ]
    },
    {
     "name": "stdout",
     "output_type": "stream",
     "text": [
      "\u001b[91mTest set: Accuracy(FPR95): 0.30520000\n",
      "\u001b[0m\n",
      "# Found cached data data/sets/liberty.pt\n"
     ]
    },
    {
     "name": "stderr",
     "output_type": "stream",
     "text": [
      "100%|██████████| 100000/100000 [00:01<00:00, 93830.52it/s]\n"
     ]
    },
    {
     "name": "stdout",
     "output_type": "stream",
     "text": [
      "Generating 100000 triplets\n",
      "# Found cached data data/sets/notredame.pt\n",
      "# Found cached data data/sets/yosemite.pt\n"
     ]
    },
    {
     "name": "stderr",
     "output_type": "stream",
     "text": [
      "Train Epoch: 9 [97280/100000 (97%)]\tLoss: 0.997212: : 196it [00:34,  5.71it/s]\n",
      "notredame Test Epoch: 9 [97280/100000 (97%)]: : 196it [00:19,  9.92it/s]\n",
      "yosemite Test Epoch: 9 [0/100000 (0%)]: : 1it [00:00,  9.83it/s]"
     ]
    },
    {
     "name": "stdout",
     "output_type": "stream",
     "text": [
      "\u001b[91mTest set: Accuracy(FPR95): 0.19778000\n",
      "\u001b[0m\n"
     ]
    },
    {
     "name": "stderr",
     "output_type": "stream",
     "text": [
      "yosemite Test Epoch: 9 [97280/100000 (97%)]: : 196it [00:19, 10.02it/s]\n"
     ]
    },
    {
     "name": "stdout",
     "output_type": "stream",
     "text": [
      "\u001b[91mTest set: Accuracy(FPR95): 0.27566000\n",
      "\u001b[0m\n",
      "# Found cached data data/sets/liberty.pt\n"
     ]
    },
    {
     "name": "stderr",
     "output_type": "stream",
     "text": [
      "100%|██████████| 100000/100000 [00:00<00:00, 115527.87it/s]\n"
     ]
    },
    {
     "name": "stdout",
     "output_type": "stream",
     "text": [
      "Generating 100000 triplets\n",
      "# Found cached data data/sets/notredame.pt\n",
      "# Found cached data data/sets/yosemite.pt"
     ]
    },
    {
     "name": "stderr",
     "output_type": "stream",
     "text": [
      "Train Epoch: 10 [97280/100000 (97%)]\tLoss: 0.952599: : 196it [00:33,  5.87it/s]\n",
      "notredame Test Epoch: 10 [97280/100000 (97%)]: : 196it [00:22, 11.10it/s]\n",
      "yosemite Test Epoch: 10 [0/100000 (0%)]: : 1it [00:00,  9.99it/s]"
     ]
    },
    {
     "name": "stdout",
     "output_type": "stream",
     "text": [
      "\n",
      "\u001b[91mTest set: Accuracy(FPR95): 0.15664000\n",
      "\u001b[0m\n"
     ]
    },
    {
     "name": "stderr",
     "output_type": "stream",
     "text": [
      "yosemite Test Epoch: 10 [97280/100000 (97%)]: : 196it [00:20,  9.39it/s]\n"
     ]
    },
    {
     "name": "stdout",
     "output_type": "stream",
     "text": [
      "\u001b[91mTest set: Accuracy(FPR95): 0.23282000\n",
      "\u001b[0m\n",
      "# Found cached data data/sets/liberty.pt\n"
     ]
    },
    {
     "name": "stderr",
     "output_type": "stream",
     "text": [
      "100%|██████████| 100000/100000 [00:01<00:00, 97964.29it/s]\n"
     ]
    },
    {
     "name": "stdout",
     "output_type": "stream",
     "text": [
      "Generating 100000 triplets\n",
      "# Found cached data data/sets/notredame.pt\n",
      "# Found cached data data/sets/yosemite.pt\n"
     ]
    },
    {
     "name": "stderr",
     "output_type": "stream",
     "text": [
      "Train Epoch: 11 [97280/100000 (97%)]\tLoss: 0.911624: : 196it [00:33,  5.80it/s]\n",
      "notredame Test Epoch: 11 [97280/100000 (97%)]: : 196it [00:19, 10.07it/s]\n",
      "yosemite Test Epoch: 11 [0/100000 (0%)]: : 1it [00:00,  9.85it/s]"
     ]
    },
    {
     "name": "stdout",
     "output_type": "stream",
     "text": [
      "\u001b[91mTest set: Accuracy(FPR95): 0.14984000\n",
      "\u001b[0m\n"
     ]
    },
    {
     "name": "stderr",
     "output_type": "stream",
     "text": [
      "yosemite Test Epoch: 11 [97280/100000 (97%)]: : 196it [00:19,  9.94it/s]\n"
     ]
    },
    {
     "name": "stdout",
     "output_type": "stream",
     "text": [
      "\u001b[91mTest set: Accuracy(FPR95): 0.21662000\n",
      "\u001b[0m\n",
      "# Found cached data data/sets/liberty.pt\n"
     ]
    },
    {
     "name": "stderr",
     "output_type": "stream",
     "text": [
      "100%|██████████| 100000/100000 [00:00<00:00, 105230.43it/s]\n"
     ]
    },
    {
     "name": "stdout",
     "output_type": "stream",
     "text": [
      "Generating 100000 triplets\n",
      "# Found cached data data/sets/notredame.pt\n",
      "# Found cached data data/sets/yosemite.pt\n"
     ]
    },
    {
     "name": "stderr",
     "output_type": "stream",
     "text": [
      "Train Epoch: 12 [97280/100000 (97%)]\tLoss: 0.904384: : 196it [00:32,  5.98it/s]\n",
      "notredame Test Epoch: 12 [97280/100000 (97%)]: : 196it [00:21,  8.92it/s]\n",
      "yosemite Test Epoch: 12 [0/100000 (0%)]: : 1it [00:00,  9.50it/s]"
     ]
    },
    {
     "name": "stdout",
     "output_type": "stream",
     "text": [
      "\u001b[91mTest set: Accuracy(FPR95): 0.12398000\n",
      "\u001b[0m\n"
     ]
    },
    {
     "name": "stderr",
     "output_type": "stream",
     "text": [
      "yosemite Test Epoch: 12 [97280/100000 (97%)]: : 196it [00:19, 11.46it/s]\n"
     ]
    },
    {
     "name": "stdout",
     "output_type": "stream",
     "text": [
      "\u001b[91mTest set: Accuracy(FPR95): 0.18646000\n",
      "\u001b[0m\n",
      "# Found cached data data/sets/liberty.pt\n"
     ]
    },
    {
     "name": "stderr",
     "output_type": "stream",
     "text": [
      "100%|██████████| 100000/100000 [00:00<00:00, 108189.62it/s]\n"
     ]
    },
    {
     "name": "stdout",
     "output_type": "stream",
     "text": [
      "Generating 100000 triplets\n",
      "# Found cached data data/sets/notredame.pt\n",
      "# Found cached data data/sets/yosemite.pt\n"
     ]
    },
    {
     "name": "stderr",
     "output_type": "stream",
     "text": [
      "Train Epoch: 13 [97280/100000 (97%)]\tLoss: 0.879888: : 196it [00:32,  5.94it/s]\n",
      "notredame Test Epoch: 13 [97280/100000 (97%)]: : 196it [00:21,  9.03it/s]\n",
      "yosemite Test Epoch: 13 [0/100000 (0%)]: : 1it [00:00,  8.05it/s]"
     ]
    },
    {
     "name": "stdout",
     "output_type": "stream",
     "text": [
      "\u001b[91mTest set: Accuracy(FPR95): 0.10298000\n",
      "\u001b[0m\n"
     ]
    },
    {
     "name": "stderr",
     "output_type": "stream",
     "text": [
      "yosemite Test Epoch: 13 [97280/100000 (97%)]: : 196it [00:21,  9.26it/s]\n"
     ]
    },
    {
     "name": "stdout",
     "output_type": "stream",
     "text": [
      "\u001b[91mTest set: Accuracy(FPR95): 0.18828000\n",
      "\u001b[0m\n",
      "# Found cached data data/sets/liberty.pt\n"
     ]
    },
    {
     "name": "stderr",
     "output_type": "stream",
     "text": [
      "100%|██████████| 100000/100000 [00:01<00:00, 91826.44it/s]\n"
     ]
    },
    {
     "name": "stdout",
     "output_type": "stream",
     "text": [
      "Generating 100000 triplets\n",
      "# Found cached data data/sets/notredame.pt\n",
      "# Found cached data data/sets/yosemite.pt\n"
     ]
    },
    {
     "name": "stderr",
     "output_type": "stream",
     "text": [
      "Train Epoch: 14 [97280/100000 (97%)]\tLoss: 0.885925: : 196it [00:33,  5.83it/s]\n",
      "notredame Test Epoch: 14 [97280/100000 (97%)]: : 196it [00:19, 11.33it/s]\n",
      "yosemite Test Epoch: 14 [0/100000 (0%)]: : 1it [00:00,  9.92it/s]"
     ]
    },
    {
     "name": "stdout",
     "output_type": "stream",
     "text": [
      "\u001b[91mTest set: Accuracy(FPR95): 0.09296000\n",
      "\u001b[0m\n"
     ]
    },
    {
     "name": "stderr",
     "output_type": "stream",
     "text": [
      "yosemite Test Epoch: 14 [97280/100000 (97%)]: : 196it [00:19, 10.11it/s]\n"
     ]
    },
    {
     "name": "stdout",
     "output_type": "stream",
     "text": [
      "\u001b[91mTest set: Accuracy(FPR95): 0.16068000\n",
      "\u001b[0m\n",
      "# Found cached data data/sets/liberty.pt\n"
     ]
    },
    {
     "name": "stderr",
     "output_type": "stream",
     "text": [
      "100%|██████████| 100000/100000 [00:00<00:00, 109449.53it/s]\n"
     ]
    },
    {
     "name": "stdout",
     "output_type": "stream",
     "text": [
      "Generating 100000 triplets\n",
      "# Found cached data data/sets/notredame.pt\n",
      "# Found cached data data/sets/yosemite.pt"
     ]
    },
    {
     "name": "stderr",
     "output_type": "stream",
     "text": [
      "Train Epoch: 15 [97280/100000 (97%)]\tLoss: 0.866771: : 196it [00:32,  5.97it/s]\n",
      "notredame Test Epoch: 15 [97280/100000 (97%)]: : 196it [00:23,  8.49it/s]\n",
      "yosemite Test Epoch: 15 [0/100000 (0%)]: : 1it [00:00,  8.92it/s]"
     ]
    },
    {
     "name": "stdout",
     "output_type": "stream",
     "text": [
      "\n",
      "\u001b[91mTest set: Accuracy(FPR95): 0.08252000\n",
      "\u001b[0m\n"
     ]
    },
    {
     "name": "stderr",
     "output_type": "stream",
     "text": [
      "yosemite Test Epoch: 15 [97280/100000 (97%)]: : 196it [00:20,  9.48it/s]\n"
     ]
    },
    {
     "name": "stdout",
     "output_type": "stream",
     "text": [
      "\u001b[91mTest set: Accuracy(FPR95): 0.15416000\n",
      "\u001b[0m\n",
      "# Found cached data data/sets/liberty.pt\n",
      "Generating 100000 triplets"
     ]
    },
    {
     "name": "stderr",
     "output_type": "stream",
     "text": [
      "100%|██████████| 100000/100000 [00:01<00:00, 98827.38it/s]\n"
     ]
    },
    {
     "name": "stdout",
     "output_type": "stream",
     "text": [
      "\n",
      "# Found cached data data/sets/notredame.pt\n",
      "# Found cached data data/sets/yosemite.pt\n"
     ]
    },
    {
     "name": "stderr",
     "output_type": "stream",
     "text": [
      "Train Epoch: 16 [97280/100000 (97%)]\tLoss: 0.874757: : 196it [00:34,  5.73it/s]\n",
      "notredame Test Epoch: 16 [97280/100000 (97%)]: : 196it [00:21,  9.20it/s]\n",
      "yosemite Test Epoch: 16 [0/100000 (0%)]: : 1it [00:00,  8.87it/s]"
     ]
    },
    {
     "name": "stdout",
     "output_type": "stream",
     "text": [
      "\u001b[91mTest set: Accuracy(FPR95): 0.07542000\n",
      "\u001b[0m\n"
     ]
    },
    {
     "name": "stderr",
     "output_type": "stream",
     "text": [
      "yosemite Test Epoch: 16 [97280/100000 (97%)]: : 196it [00:20,  9.35it/s]\n"
     ]
    },
    {
     "name": "stdout",
     "output_type": "stream",
     "text": [
      "\u001b[91mTest set: Accuracy(FPR95): 0.15210000\n",
      "\u001b[0m\n",
      "# Found cached data data/sets/liberty.pt\n"
     ]
    },
    {
     "name": "stderr",
     "output_type": "stream",
     "text": [
      "100%|██████████| 100000/100000 [00:00<00:00, 102764.82it/s]\n"
     ]
    },
    {
     "name": "stdout",
     "output_type": "stream",
     "text": [
      "Generating 100000 triplets\n",
      "# Found cached data data/sets/notredame.pt\n"
     ]
    },
    {
     "name": "stderr",
     "output_type": "stream",
     "text": [
      "Train Epoch: 17 [97280/100000 (97%)]\tLoss: 0.859459: : 196it [00:34,  5.72it/s]\n",
      "notredame Test Epoch: 17 [97280/100000 (97%)]: : 196it [00:24,  7.98it/s]\n",
      "yosemite Test Epoch: 17 [0/100000 (0%)]: : 1it [00:00,  8.03it/s]"
     ]
    },
    {
     "name": "stdout",
     "output_type": "stream",
     "text": [
      "# Found cached data data/sets/yosemite.pt\n",
      "\u001b[91mTest set: Accuracy(FPR95): 0.06710000\n",
      "\u001b[0m\n"
     ]
    },
    {
     "name": "stderr",
     "output_type": "stream",
     "text": [
      "yosemite Test Epoch: 17 [97280/100000 (97%)]: : 196it [00:24,  7.99it/s]\n"
     ]
    },
    {
     "name": "stdout",
     "output_type": "stream",
     "text": [
      "\u001b[91mTest set: Accuracy(FPR95): 0.13898000\n",
      "\u001b[0m\n",
      "# Found cached data data/sets/liberty.pt\n"
     ]
    },
    {
     "name": "stderr",
     "output_type": "stream",
     "text": [
      "100%|██████████| 100000/100000 [00:01<00:00, 93504.31it/s]\n"
     ]
    },
    {
     "name": "stdout",
     "output_type": "stream",
     "text": [
      "Generating 100000 triplets\n",
      "# Found cached data data/sets/notredame.pt\n",
      "# Found cached data data/sets/yosemite.pt\n"
     ]
    },
    {
     "name": "stderr",
     "output_type": "stream",
     "text": [
      "Train Epoch: 18 [97280/100000 (97%)]\tLoss: 0.870951: : 196it [00:34,  5.65it/s]\n",
      "notredame Test Epoch: 18 [97280/100000 (97%)]: : 196it [00:20,  9.72it/s]\n",
      "yosemite Test Epoch: 18 [0/100000 (0%)]: : 1it [00:00,  9.87it/s]"
     ]
    },
    {
     "name": "stdout",
     "output_type": "stream",
     "text": [
      "\u001b[91mTest set: Accuracy(FPR95): 0.07900000\n",
      "\u001b[0m\n"
     ]
    },
    {
     "name": "stderr",
     "output_type": "stream",
     "text": [
      "yosemite Test Epoch: 18 [97280/100000 (97%)]: : 196it [00:21,  9.27it/s]\n"
     ]
    },
    {
     "name": "stdout",
     "output_type": "stream",
     "text": [
      "\u001b[91mTest set: Accuracy(FPR95): 0.16358000\n",
      "\u001b[0m\n",
      "# Found cached data data/sets/liberty.pt\n"
     ]
    },
    {
     "name": "stderr",
     "output_type": "stream",
     "text": [
      "100%|██████████| 100000/100000 [00:01<00:00, 97998.12it/s]\n"
     ]
    },
    {
     "name": "stdout",
     "output_type": "stream",
     "text": [
      "Generating 100000 triplets\n",
      "# Found cached data data/sets/notredame.pt\n",
      "# Found cached data data/sets/yosemite.pt\n"
     ]
    },
    {
     "name": "stderr",
     "output_type": "stream",
     "text": [
      "Train Epoch: 19 [97280/100000 (97%)]\tLoss: 0.855585: : 196it [00:32,  6.08it/s]\n",
      "notredame Test Epoch: 19 [97280/100000 (97%)]: : 196it [00:20,  9.71it/s]\n",
      "yosemite Test Epoch: 19 [0/100000 (0%)]: : 1it [00:00,  9.22it/s]"
     ]
    },
    {
     "name": "stdout",
     "output_type": "stream",
     "text": [
      "\u001b[91mTest set: Accuracy(FPR95): 0.06658000\n",
      "\u001b[0m\n"
     ]
    },
    {
     "name": "stderr",
     "output_type": "stream",
     "text": [
      "yosemite Test Epoch: 19 [97280/100000 (97%)]: : 196it [00:19,  9.82it/s]\n"
     ]
    },
    {
     "name": "stdout",
     "output_type": "stream",
     "text": [
      "\u001b[91mTest set: Accuracy(FPR95): 0.13812000\n",
      "\u001b[0m\n",
      "# Found cached data data/sets/liberty.pt\n"
     ]
    },
    {
     "name": "stderr",
     "output_type": "stream",
     "text": [
      "100%|██████████| 100000/100000 [00:00<00:00, 101150.46it/s]\n"
     ]
    },
    {
     "name": "stdout",
     "output_type": "stream",
     "text": [
      "Generating 100000 triplets\n",
      "# Found cached data data/sets/notredame.pt\n",
      "# Found cached data data/sets/yosemite.pt\n"
     ]
    },
    {
     "name": "stderr",
     "output_type": "stream",
     "text": [
      "Train Epoch: 20 [97280/100000 (97%)]\tLoss: 0.852320: : 196it [00:33,  5.84it/s]\n",
      "notredame Test Epoch: 20 [97280/100000 (97%)]: : 196it [00:20,  9.64it/s]\n",
      "yosemite Test Epoch: 20 [0/100000 (0%)]: : 1it [00:00,  9.52it/s]"
     ]
    },
    {
     "name": "stdout",
     "output_type": "stream",
     "text": [
      "\u001b[91mTest set: Accuracy(FPR95): 0.07012000\n",
      "\u001b[0m\n"
     ]
    },
    {
     "name": "stderr",
     "output_type": "stream",
     "text": [
      "yosemite Test Epoch: 20 [97280/100000 (97%)]: : 196it [00:19,  9.83it/s]\n"
     ]
    },
    {
     "name": "stdout",
     "output_type": "stream",
     "text": [
      "\u001b[91mTest set: Accuracy(FPR95): 0.13784000\n",
      "\u001b[0m\n",
      "# Found cached data data/sets/liberty.pt\n"
     ]
    },
    {
     "name": "stderr",
     "output_type": "stream",
     "text": [
      "100%|██████████| 100000/100000 [00:00<00:00, 105651.31it/s]\n"
     ]
    },
    {
     "name": "stdout",
     "output_type": "stream",
     "text": [
      "Generating 100000 triplets\n",
      "# Found cached data data/sets/notredame.pt\n",
      "# Found cached data data/sets/yosemite.pt\n"
     ]
    },
    {
     "name": "stderr",
     "output_type": "stream",
     "text": [
      "Train Epoch: 21 [97280/100000 (97%)]\tLoss: 0.843784: : 196it [00:34,  5.68it/s]\n",
      "notredame Test Epoch: 21 [97280/100000 (97%)]: : 196it [00:20,  9.67it/s]\n",
      "yosemite Test Epoch: 21 [0/100000 (0%)]: : 1it [00:00,  9.14it/s]"
     ]
    },
    {
     "name": "stdout",
     "output_type": "stream",
     "text": [
      "\u001b[91mTest set: Accuracy(FPR95): 0.06582000\n",
      "\u001b[0m\n"
     ]
    },
    {
     "name": "stderr",
     "output_type": "stream",
     "text": [
      "yosemite Test Epoch: 21 [97280/100000 (97%)]: : 196it [00:20,  9.79it/s]\n"
     ]
    },
    {
     "name": "stdout",
     "output_type": "stream",
     "text": [
      "\u001b[91mTest set: Accuracy(FPR95): 0.13410000\n",
      "\u001b[0m\n",
      "# Found cached data data/sets/liberty.pt\n"
     ]
    },
    {
     "name": "stderr",
     "output_type": "stream",
     "text": [
      "100%|██████████| 100000/100000 [00:00<00:00, 105284.87it/s]\n"
     ]
    },
    {
     "name": "stdout",
     "output_type": "stream",
     "text": [
      "Generating 100000 triplets\n",
      "# Found cached data data/sets/notredame.pt\n",
      "# Found cached data data/sets/yosemite.pt\n"
     ]
    },
    {
     "name": "stderr",
     "output_type": "stream",
     "text": [
      "Train Epoch: 22 [97280/100000 (97%)]\tLoss: 0.835826: : 196it [00:33,  5.77it/s]\n",
      "notredame Test Epoch: 22 [97280/100000 (97%)]: : 196it [00:23,  8.47it/s]\n",
      "yosemite Test Epoch: 22 [0/100000 (0%)]: : 1it [00:00,  8.91it/s]"
     ]
    },
    {
     "name": "stdout",
     "output_type": "stream",
     "text": [
      "\u001b[91mTest set: Accuracy(FPR95): 0.05946000\n",
      "\u001b[0m\n"
     ]
    },
    {
     "name": "stderr",
     "output_type": "stream",
     "text": [
      "yosemite Test Epoch: 22 [97280/100000 (97%)]: : 196it [00:20,  9.54it/s]\n"
     ]
    },
    {
     "name": "stdout",
     "output_type": "stream",
     "text": [
      "\u001b[91mTest set: Accuracy(FPR95): 0.13718000\n",
      "\u001b[0m\n",
      "# Found cached data data/sets/liberty.pt\n",
      "Generating 100000 triplets"
     ]
    },
    {
     "name": "stderr",
     "output_type": "stream",
     "text": [
      "100%|██████████| 100000/100000 [00:00<00:00, 103761.08it/s]\n"
     ]
    },
    {
     "name": "stdout",
     "output_type": "stream",
     "text": [
      "\n",
      "# Found cached data data/sets/notredame.pt\n",
      "# Found cached data data/sets/yosemite.pt\n"
     ]
    },
    {
     "name": "stderr",
     "output_type": "stream",
     "text": [
      "Train Epoch: 23 [97280/100000 (97%)]\tLoss: 0.862783: : 196it [00:33,  5.80it/s]\n",
      "notredame Test Epoch: 23 [97280/100000 (97%)]: : 196it [00:21,  9.05it/s]\n",
      "yosemite Test Epoch: 23 [0/100000 (0%)]: : 1it [00:00,  8.03it/s]"
     ]
    },
    {
     "name": "stdout",
     "output_type": "stream",
     "text": [
      "\u001b[91mTest set: Accuracy(FPR95): 0.06572000\n",
      "\u001b[0m\n"
     ]
    },
    {
     "name": "stderr",
     "output_type": "stream",
     "text": [
      "yosemite Test Epoch: 23 [97280/100000 (97%)]: : 196it [00:26,  7.40it/s]\n"
     ]
    },
    {
     "name": "stdout",
     "output_type": "stream",
     "text": [
      "\u001b[91mTest set: Accuracy(FPR95): 0.12924000\n",
      "\u001b[0m\n",
      "# Found cached data data/sets/liberty.pt\n",
      "Generating 100000 triplets\n"
     ]
    },
    {
     "name": "stderr",
     "output_type": "stream",
     "text": [
      "100%|██████████| 100000/100000 [00:01<00:00, 91279.74it/s]\n"
     ]
    },
    {
     "name": "stdout",
     "output_type": "stream",
     "text": [
      "# Found cached data data/sets/notredame.pt\n"
     ]
    },
    {
     "name": "stderr",
     "output_type": "stream",
     "text": [
      "Train Epoch: 24 [97280/100000 (97%)]\tLoss: 0.834806: : 196it [00:35,  5.49it/s]\n",
      "notredame Test Epoch: 24 [97280/100000 (97%)]: : 196it [00:23,  8.28it/s]\n",
      "yosemite Test Epoch: 24 [0/100000 (0%)]: : 1it [00:00,  9.31it/s]"
     ]
    },
    {
     "name": "stdout",
     "output_type": "stream",
     "text": [
      "# Found cached data data/sets/yosemite.pt\n",
      "\u001b[91mTest set: Accuracy(FPR95): 0.05408000\n",
      "\u001b[0m\n"
     ]
    },
    {
     "name": "stderr",
     "output_type": "stream",
     "text": [
      "yosemite Test Epoch: 24 [97280/100000 (97%)]: : 196it [00:20,  9.49it/s]\n"
     ]
    },
    {
     "name": "stdout",
     "output_type": "stream",
     "text": [
      "\u001b[91mTest set: Accuracy(FPR95): 0.11510000\n",
      "\u001b[0m\n",
      "# Found cached data data/sets/liberty.pt\n"
     ]
    },
    {
     "name": "stderr",
     "output_type": "stream",
     "text": [
      "100%|██████████| 100000/100000 [00:01<00:00, 90168.42it/s]\n"
     ]
    },
    {
     "name": "stdout",
     "output_type": "stream",
     "text": [
      "Generating 100000 triplets\n",
      "# Found cached data data/sets/notredame.pt\n",
      "# Found cached data data/sets/yosemite.pt"
     ]
    },
    {
     "name": "stderr",
     "output_type": "stream",
     "text": [
      "Train Epoch: 25 [97280/100000 (97%)]\tLoss: 0.837187: : 196it [00:33,  5.79it/s]\n",
      "notredame Test Epoch: 25 [97280/100000 (97%)]: : 196it [00:22,  8.83it/s]\n",
      "yosemite Test Epoch: 25 [0/100000 (0%)]: : 1it [00:00,  9.35it/s]"
     ]
    },
    {
     "name": "stdout",
     "output_type": "stream",
     "text": [
      "\n",
      "\u001b[91mTest set: Accuracy(FPR95): 0.05790000\n",
      "\u001b[0m\n"
     ]
    },
    {
     "name": "stderr",
     "output_type": "stream",
     "text": [
      "yosemite Test Epoch: 25 [97280/100000 (97%)]: : 196it [00:20,  9.33it/s]\n"
     ]
    },
    {
     "name": "stdout",
     "output_type": "stream",
     "text": [
      "\u001b[91mTest set: Accuracy(FPR95): 0.11566000\n",
      "\u001b[0m\n",
      "# Found cached data data/sets/liberty.pt\n"
     ]
    },
    {
     "name": "stderr",
     "output_type": "stream",
     "text": [
      "100%|██████████| 100000/100000 [00:01<00:00, 90846.35it/s]\n"
     ]
    },
    {
     "name": "stdout",
     "output_type": "stream",
     "text": [
      "Generating 100000 triplets\n",
      "# Found cached data data/sets/notredame.pt\n"
     ]
    },
    {
     "name": "stderr",
     "output_type": "stream",
     "text": [
      "Train Epoch: 26 [97280/100000 (97%)]\tLoss: 0.828870: : 196it [00:33,  5.88it/s]\n",
      "notredame Test Epoch: 26 [97280/100000 (97%)]: : 196it [00:21,  8.99it/s]\n",
      "yosemite Test Epoch: 26 [0/100000 (0%)]: : 1it [00:00,  9.05it/s]"
     ]
    },
    {
     "name": "stdout",
     "output_type": "stream",
     "text": [
      "# Found cached data data/sets/yosemite.pt\n",
      "\u001b[91mTest set: Accuracy(FPR95): 0.06780000\n",
      "\u001b[0m\n"
     ]
    },
    {
     "name": "stderr",
     "output_type": "stream",
     "text": [
      "yosemite Test Epoch: 26 [97280/100000 (97%)]: : 196it [00:20,  9.44it/s]\n"
     ]
    },
    {
     "name": "stdout",
     "output_type": "stream",
     "text": [
      "\u001b[91mTest set: Accuracy(FPR95): 0.13006000\n",
      "\u001b[0m\n",
      "# Found cached data data/sets/liberty.pt\n"
     ]
    },
    {
     "name": "stderr",
     "output_type": "stream",
     "text": [
      "100%|██████████| 100000/100000 [00:00<00:00, 108750.97it/s]\n"
     ]
    },
    {
     "name": "stdout",
     "output_type": "stream",
     "text": [
      "Generating 100000 triplets\n",
      "# Found cached data data/sets/notredame.pt\n",
      "# Found cached data data/sets/yosemite.pt"
     ]
    },
    {
     "name": "stderr",
     "output_type": "stream",
     "text": [
      "Train Epoch: 27 [97280/100000 (97%)]\tLoss: 0.824252: : 196it [00:34,  5.62it/s]\n",
      "notredame Test Epoch: 27 [97280/100000 (97%)]: : 196it [00:21, 11.52it/s]\n",
      "yosemite Test Epoch: 27 [0/100000 (0%)]: : 2it [00:00, 10.19it/s]"
     ]
    },
    {
     "name": "stdout",
     "output_type": "stream",
     "text": [
      "\n",
      "\u001b[91mTest set: Accuracy(FPR95): 0.05508000\n",
      "\u001b[0m\n"
     ]
    },
    {
     "name": "stderr",
     "output_type": "stream",
     "text": [
      "yosemite Test Epoch: 27 [97280/100000 (97%)]: : 196it [00:25,  7.84it/s]\n"
     ]
    },
    {
     "name": "stdout",
     "output_type": "stream",
     "text": [
      "\u001b[91mTest set: Accuracy(FPR95): 0.11820000\n",
      "\u001b[0m\n",
      "# Found cached data data/sets/liberty.pt\n"
     ]
    },
    {
     "name": "stderr",
     "output_type": "stream",
     "text": [
      "100%|██████████| 100000/100000 [00:01<00:00, 94838.91it/s]\n"
     ]
    },
    {
     "name": "stdout",
     "output_type": "stream",
     "text": [
      "Generating 100000 triplets\n",
      "# Found cached data data/sets/notredame.pt\n",
      "# Found cached data data/sets/yosemite.pt\n"
     ]
    },
    {
     "name": "stderr",
     "output_type": "stream",
     "text": [
      "Train Epoch: 28 [97280/100000 (97%)]\tLoss: 0.829328: : 196it [00:34,  5.63it/s]\n",
      "notredame Test Epoch: 28 [97280/100000 (97%)]: : 196it [00:25,  7.59it/s]\n",
      "yosemite Test Epoch: 28 [0/100000 (0%)]: : 1it [00:00,  7.49it/s]"
     ]
    },
    {
     "name": "stdout",
     "output_type": "stream",
     "text": [
      "\u001b[91mTest set: Accuracy(FPR95): 0.05690000\n",
      "\u001b[0m\n"
     ]
    },
    {
     "name": "stderr",
     "output_type": "stream",
     "text": [
      "yosemite Test Epoch: 28 [97280/100000 (97%)]: : 196it [00:24,  8.00it/s]\n"
     ]
    },
    {
     "name": "stdout",
     "output_type": "stream",
     "text": [
      "\u001b[91mTest set: Accuracy(FPR95): 0.12690000\n",
      "\u001b[0m\n",
      "# Found cached data data/sets/liberty.pt\n",
      "Generating 100000 triplets"
     ]
    },
    {
     "name": "stderr",
     "output_type": "stream",
     "text": [
      "100%|██████████| 100000/100000 [00:01<00:00, 89313.04it/s]\n"
     ]
    },
    {
     "name": "stdout",
     "output_type": "stream",
     "text": [
      "\n",
      "# Found cached data data/sets/notredame.pt\n",
      "# Found cached data data/sets/yosemite.pt\n"
     ]
    },
    {
     "name": "stderr",
     "output_type": "stream",
     "text": [
      "Train Epoch: 29 [97280/100000 (97%)]\tLoss: 0.830776: : 196it [00:35,  5.53it/s]\n",
      "notredame Test Epoch: 29 [97280/100000 (97%)]: : 196it [00:19,  9.82it/s]\n",
      "yosemite Test Epoch: 29 [0/100000 (0%)]: : 1it [00:00,  9.37it/s]"
     ]
    },
    {
     "name": "stdout",
     "output_type": "stream",
     "text": [
      "\u001b[91mTest set: Accuracy(FPR95): 0.05036000\n",
      "\u001b[0m\n"
     ]
    },
    {
     "name": "stderr",
     "output_type": "stream",
     "text": [
      "yosemite Test Epoch: 29 [97280/100000 (97%)]: : 196it [00:20,  9.56it/s]\n"
     ]
    },
    {
     "name": "stdout",
     "output_type": "stream",
     "text": [
      "\u001b[91mTest set: Accuracy(FPR95): 0.11912000\n",
      "\u001b[0m\n",
      "# Found cached data data/sets/liberty.pt\n"
     ]
    },
    {
     "name": "stderr",
     "output_type": "stream",
     "text": [
      "100%|██████████| 100000/100000 [00:01<00:00, 90505.86it/s]\n"
     ]
    },
    {
     "name": "stdout",
     "output_type": "stream",
     "text": [
      "Generating 100000 triplets\n",
      "# Found cached data data/sets/notredame.pt\n",
      "# Found cached data data/sets/yosemite.pt\n"
     ]
    },
    {
     "name": "stderr",
     "output_type": "stream",
     "text": [
      "Train Epoch: 30 [97280/100000 (97%)]\tLoss: 0.807745: : 196it [00:34,  5.73it/s]\n",
      "notredame Test Epoch: 30 [97280/100000 (97%)]: : 196it [00:23,  8.45it/s]\n",
      "yosemite Test Epoch: 30 [0/100000 (0%)]: : 1it [00:00,  9.54it/s]"
     ]
    },
    {
     "name": "stdout",
     "output_type": "stream",
     "text": [
      "\u001b[91mTest set: Accuracy(FPR95): 0.04860000\n",
      "\u001b[0m\n"
     ]
    },
    {
     "name": "stderr",
     "output_type": "stream",
     "text": [
      "yosemite Test Epoch: 30 [97280/100000 (97%)]: : 196it [00:19,  9.96it/s]\n"
     ]
    },
    {
     "name": "stdout",
     "output_type": "stream",
     "text": [
      "\u001b[91mTest set: Accuracy(FPR95): 0.10916000\n",
      "\u001b[0m\n",
      "# Found cached data data/sets/liberty.pt\n",
      "Generating 100000 triplets\n"
     ]
    },
    {
     "name": "stderr",
     "output_type": "stream",
     "text": [
      "100%|██████████| 100000/100000 [00:01<00:00, 96663.66it/s]\n"
     ]
    },
    {
     "name": "stdout",
     "output_type": "stream",
     "text": [
      "# Found cached data data/sets/notredame.pt\n",
      "# Found cached data data/sets/yosemite.pt\n"
     ]
    },
    {
     "name": "stderr",
     "output_type": "stream",
     "text": [
      "Train Epoch: 31 [97280/100000 (97%)]\tLoss: 0.824321: : 196it [00:34,  5.73it/s]\n",
      "notredame Test Epoch: 31 [97280/100000 (97%)]: : 196it [00:25,  7.79it/s]\n",
      "yosemite Test Epoch: 31 [0/100000 (0%)]: : 1it [00:00,  7.82it/s]"
     ]
    },
    {
     "name": "stdout",
     "output_type": "stream",
     "text": [
      "\u001b[91mTest set: Accuracy(FPR95): 0.05092000\n",
      "\u001b[0m\n"
     ]
    },
    {
     "name": "stderr",
     "output_type": "stream",
     "text": [
      "yosemite Test Epoch: 31 [97280/100000 (97%)]: : 196it [00:21,  9.31it/s]\n"
     ]
    },
    {
     "name": "stdout",
     "output_type": "stream",
     "text": [
      "\u001b[91mTest set: Accuracy(FPR95): 0.12240000\n",
      "\u001b[0m\n",
      "# Found cached data data/sets/liberty.pt\n",
      "Generating 100000 triplets"
     ]
    },
    {
     "name": "stderr",
     "output_type": "stream",
     "text": [
      "100%|██████████| 100000/100000 [00:00<00:00, 106607.94it/s]\n"
     ]
    },
    {
     "name": "stdout",
     "output_type": "stream",
     "text": [
      "\n",
      "# Found cached data data/sets/notredame.pt\n",
      "# Found cached data data/sets/yosemite.pt\n"
     ]
    },
    {
     "name": "stderr",
     "output_type": "stream",
     "text": [
      "Train Epoch: 32 [97280/100000 (97%)]\tLoss: 0.834194: : 196it [00:33,  5.84it/s]\n",
      "notredame Test Epoch: 32 [97280/100000 (97%)]: : 196it [00:21,  9.08it/s]\n",
      "yosemite Test Epoch: 32 [0/100000 (0%)]: : 1it [00:00,  7.96it/s]"
     ]
    },
    {
     "name": "stdout",
     "output_type": "stream",
     "text": [
      "\u001b[91mTest set: Accuracy(FPR95): 0.05506000\n",
      "\u001b[0m\n"
     ]
    },
    {
     "name": "stderr",
     "output_type": "stream",
     "text": [
      "yosemite Test Epoch: 32 [97280/100000 (97%)]: : 196it [00:23,  8.27it/s]\n"
     ]
    },
    {
     "name": "stdout",
     "output_type": "stream",
     "text": [
      "\u001b[91mTest set: Accuracy(FPR95): 0.11330000\n",
      "\u001b[0m\n",
      "# Found cached data data/sets/liberty.pt\n",
      "Generating 100000 triplets\n"
     ]
    },
    {
     "name": "stderr",
     "output_type": "stream",
     "text": [
      "100%|██████████| 100000/100000 [00:00<00:00, 101138.17it/s]\n"
     ]
    },
    {
     "name": "stdout",
     "output_type": "stream",
     "text": [
      "# Found cached data data/sets/notredame.pt\n",
      "# Found cached data data/sets/yosemite.pt\n"
     ]
    },
    {
     "name": "stderr",
     "output_type": "stream",
     "text": [
      "Train Epoch: 33 [97280/100000 (97%)]\tLoss: 0.829775: : 196it [00:33,  5.88it/s]\n",
      "notredame Test Epoch: 33 [97280/100000 (97%)]: : 196it [00:19, 11.40it/s]\n",
      "yosemite Test Epoch: 33 [0/100000 (0%)]: : 1it [00:00,  9.98it/s]"
     ]
    },
    {
     "name": "stdout",
     "output_type": "stream",
     "text": [
      "\u001b[91mTest set: Accuracy(FPR95): 0.04918000\n",
      "\u001b[0m\n"
     ]
    },
    {
     "name": "stderr",
     "output_type": "stream",
     "text": [
      "yosemite Test Epoch: 33 [97280/100000 (97%)]: : 196it [00:20, 11.28it/s]\n"
     ]
    },
    {
     "name": "stdout",
     "output_type": "stream",
     "text": [
      "\u001b[91mTest set: Accuracy(FPR95): 0.11560000\n",
      "\u001b[0m\n",
      "# Found cached data data/sets/liberty.pt\n",
      "Generating 100000 triplets"
     ]
    },
    {
     "name": "stderr",
     "output_type": "stream",
     "text": [
      "100%|██████████| 100000/100000 [00:01<00:00, 99352.67it/s]\n"
     ]
    },
    {
     "name": "stdout",
     "output_type": "stream",
     "text": [
      "\n",
      "# Found cached data data/sets/notredame.pt\n",
      "# Found cached data data/sets/yosemite.pt\n"
     ]
    },
    {
     "name": "stderr",
     "output_type": "stream",
     "text": [
      "Train Epoch: 34 [97280/100000 (97%)]\tLoss: 0.798761: : 196it [00:32,  5.96it/s]\n",
      "notredame Test Epoch: 34 [97280/100000 (97%)]: : 196it [00:24,  8.07it/s]\n",
      "yosemite Test Epoch: 34 [0/100000 (0%)]: : 1it [00:00,  8.07it/s]"
     ]
    },
    {
     "name": "stdout",
     "output_type": "stream",
     "text": [
      "\u001b[91mTest set: Accuracy(FPR95): 0.05116000\n",
      "\u001b[0m\n"
     ]
    },
    {
     "name": "stderr",
     "output_type": "stream",
     "text": [
      "yosemite Test Epoch: 34 [97280/100000 (97%)]: : 196it [00:24,  8.08it/s]\n"
     ]
    },
    {
     "name": "stdout",
     "output_type": "stream",
     "text": [
      "\u001b[91mTest set: Accuracy(FPR95): 0.11952000\n",
      "\u001b[0m\n",
      "# Found cached data data/sets/liberty.pt\n"
     ]
    },
    {
     "name": "stderr",
     "output_type": "stream",
     "text": [
      "100%|██████████| 100000/100000 [00:00<00:00, 111911.14it/s]\n"
     ]
    },
    {
     "name": "stdout",
     "output_type": "stream",
     "text": [
      "Generating 100000 triplets\n",
      "# Found cached data data/sets/notredame.pt\n",
      "# Found cached data data/sets/yosemite.pt\n"
     ]
    },
    {
     "name": "stderr",
     "output_type": "stream",
     "text": [
      "Train Epoch: 35 [97280/100000 (97%)]\tLoss: 0.807947: : 196it [00:33,  5.83it/s]\n",
      "notredame Test Epoch: 35 [97280/100000 (97%)]: : 196it [00:19, 10.26it/s]\n",
      "yosemite Test Epoch: 35 [0/100000 (0%)]: : 1it [00:00,  9.91it/s]"
     ]
    },
    {
     "name": "stdout",
     "output_type": "stream",
     "text": [
      "\u001b[91mTest set: Accuracy(FPR95): 0.04704000\n",
      "\u001b[0m\n"
     ]
    },
    {
     "name": "stderr",
     "output_type": "stream",
     "text": [
      "yosemite Test Epoch: 35 [97280/100000 (97%)]: : 196it [00:19, 11.13it/s]\n"
     ]
    },
    {
     "name": "stdout",
     "output_type": "stream",
     "text": [
      "\u001b[91mTest set: Accuracy(FPR95): 0.11930000\n",
      "\u001b[0m\n",
      "# Found cached data data/sets/liberty.pt\n"
     ]
    },
    {
     "name": "stderr",
     "output_type": "stream",
     "text": [
      "100%|██████████| 100000/100000 [00:00<00:00, 106191.01it/s]\n"
     ]
    },
    {
     "name": "stdout",
     "output_type": "stream",
     "text": [
      "Generating 100000 triplets\n",
      "# Found cached data data/sets/notredame.pt\n",
      "# Found cached data data/sets/yosemite.pt"
     ]
    },
    {
     "name": "stderr",
     "output_type": "stream",
     "text": [
      "Train Epoch: 36 [97280/100000 (97%)]\tLoss: 0.819275: : 196it [00:34,  5.76it/s]\n",
      "notredame Test Epoch: 36 [97280/100000 (97%)]: : 196it [00:24,  8.05it/s]\n",
      "yosemite Test Epoch: 36 [0/100000 (0%)]: : 1it [00:00,  7.76it/s]"
     ]
    },
    {
     "name": "stdout",
     "output_type": "stream",
     "text": [
      "\n",
      "\u001b[91mTest set: Accuracy(FPR95): 0.05192000\n",
      "\u001b[0m\n"
     ]
    },
    {
     "name": "stderr",
     "output_type": "stream",
     "text": [
      "yosemite Test Epoch: 36 [97280/100000 (97%)]: : 196it [00:24,  8.04it/s]\n"
     ]
    },
    {
     "name": "stdout",
     "output_type": "stream",
     "text": [
      "\u001b[91mTest set: Accuracy(FPR95): 0.12262000\n",
      "\u001b[0m\n",
      "# Found cached data data/sets/liberty.pt\n"
     ]
    },
    {
     "name": "stderr",
     "output_type": "stream",
     "text": [
      "100%|██████████| 100000/100000 [00:00<00:00, 106326.37it/s]\n"
     ]
    },
    {
     "name": "stdout",
     "output_type": "stream",
     "text": [
      "Generating 100000 triplets\n",
      "# Found cached data data/sets/notredame.pt\n",
      "# Found cached data data/sets/yosemite.pt\n"
     ]
    },
    {
     "name": "stderr",
     "output_type": "stream",
     "text": [
      "Train Epoch: 37 [97280/100000 (97%)]\tLoss: 0.823258: : 196it [00:33,  5.89it/s]\n",
      "notredame Test Epoch: 37 [97280/100000 (97%)]: : 196it [00:23,  8.31it/s]\n",
      "yosemite Test Epoch: 37 [0/100000 (0%)]: : 1it [00:00,  9.50it/s]"
     ]
    },
    {
     "name": "stdout",
     "output_type": "stream",
     "text": [
      "\u001b[91mTest set: Accuracy(FPR95): 0.05066000\n",
      "\u001b[0m\n"
     ]
    },
    {
     "name": "stderr",
     "output_type": "stream",
     "text": [
      "yosemite Test Epoch: 37 [97280/100000 (97%)]: : 196it [00:19, 10.22it/s]\n"
     ]
    },
    {
     "name": "stdout",
     "output_type": "stream",
     "text": [
      "\u001b[91mTest set: Accuracy(FPR95): 0.12690000\n",
      "\u001b[0m\n",
      "# Found cached data data/sets/liberty.pt\n"
     ]
    },
    {
     "name": "stderr",
     "output_type": "stream",
     "text": [
      "100%|██████████| 100000/100000 [00:01<00:00, 94485.29it/s]\n"
     ]
    },
    {
     "name": "stdout",
     "output_type": "stream",
     "text": [
      "Generating 100000 triplets\n",
      "# Found cached data data/sets/notredame.pt\n"
     ]
    },
    {
     "name": "stderr",
     "output_type": "stream",
     "text": [
      "Train Epoch: 38 [97280/100000 (97%)]\tLoss: 0.816322: : 196it [00:33,  5.90it/s]\n",
      "notredame Test Epoch: 38 [97280/100000 (97%)]: : 196it [00:19, 11.55it/s]\n",
      "yosemite Test Epoch: 38 [0/100000 (0%)]: : 2it [00:00, 10.17it/s]"
     ]
    },
    {
     "name": "stdout",
     "output_type": "stream",
     "text": [
      "# Found cached data data/sets/yosemite.pt\n",
      "\u001b[91mTest set: Accuracy(FPR95): 0.04912000\n",
      "\u001b[0m\n"
     ]
    },
    {
     "name": "stderr",
     "output_type": "stream",
     "text": [
      "yosemite Test Epoch: 38 [97280/100000 (97%)]: : 196it [00:18, 11.44it/s]\n"
     ]
    },
    {
     "name": "stdout",
     "output_type": "stream",
     "text": [
      "\u001b[91mTest set: Accuracy(FPR95): 0.11416000\n",
      "\u001b[0m\n",
      "# Found cached data data/sets/liberty.pt\n",
      "Generating 100000 triplets"
     ]
    },
    {
     "name": "stderr",
     "output_type": "stream",
     "text": [
      "100%|██████████| 100000/100000 [00:00<00:00, 117389.91it/s]\n"
     ]
    },
    {
     "name": "stdout",
     "output_type": "stream",
     "text": [
      "\n",
      "# Found cached data data/sets/notredame.pt\n",
      "# Found cached data data/sets/yosemite.pt\n"
     ]
    },
    {
     "name": "stderr",
     "output_type": "stream",
     "text": [
      "Train Epoch: 39 [97280/100000 (97%)]\tLoss: 0.814853: : 196it [00:33,  5.91it/s]\n",
      "notredame Test Epoch: 39 [97280/100000 (97%)]: : 196it [00:23,  8.21it/s]\n",
      "yosemite Test Epoch: 39 [0/100000 (0%)]: : 1it [00:00,  8.02it/s]"
     ]
    },
    {
     "name": "stdout",
     "output_type": "stream",
     "text": [
      "\u001b[91mTest set: Accuracy(FPR95): 0.04566000\n",
      "\u001b[0m\n"
     ]
    },
    {
     "name": "stderr",
     "output_type": "stream",
     "text": [
      "yosemite Test Epoch: 39 [97280/100000 (97%)]: : 196it [00:24,  8.04it/s]\n"
     ]
    },
    {
     "name": "stdout",
     "output_type": "stream",
     "text": [
      "\u001b[91mTest set: Accuracy(FPR95): 0.10374000\n",
      "\u001b[0m\n",
      "# Found cached data data/sets/liberty.pt\n"
     ]
    },
    {
     "name": "stderr",
     "output_type": "stream",
     "text": [
      "100%|██████████| 100000/100000 [00:00<00:00, 106382.97it/s]\n"
     ]
    },
    {
     "name": "stdout",
     "output_type": "stream",
     "text": [
      "Generating 100000 triplets\n",
      "# Found cached data data/sets/notredame.pt\n",
      "# Found cached data data/sets/yosemite.pt\n"
     ]
    },
    {
     "name": "stderr",
     "output_type": "stream",
     "text": [
      "Train Epoch: 40 [97280/100000 (97%)]\tLoss: 0.808422: : 196it [00:33,  5.86it/s]\n",
      "notredame Test Epoch: 40 [97280/100000 (97%)]: : 196it [00:19,  9.96it/s]\n",
      "yosemite Test Epoch: 40 [0/100000 (0%)]: : 1it [00:00,  9.77it/s]"
     ]
    },
    {
     "name": "stdout",
     "output_type": "stream",
     "text": [
      "\u001b[91mTest set: Accuracy(FPR95): 0.04528000\n",
      "\u001b[0m\n"
     ]
    },
    {
     "name": "stderr",
     "output_type": "stream",
     "text": [
      "yosemite Test Epoch: 40 [97280/100000 (97%)]: : 196it [00:19, 11.42it/s]\n"
     ]
    },
    {
     "name": "stdout",
     "output_type": "stream",
     "text": [
      "\u001b[91mTest set: Accuracy(FPR95): 0.10882000\n",
      "\u001b[0m\n",
      "# Found cached data data/sets/liberty.pt\n"
     ]
    },
    {
     "name": "stderr",
     "output_type": "stream",
     "text": [
      "100%|██████████| 100000/100000 [00:00<00:00, 109751.04it/s]\n"
     ]
    },
    {
     "name": "stdout",
     "output_type": "stream",
     "text": [
      "Generating 100000 triplets\n",
      "# Found cached data data/sets/notredame.pt\n",
      "# Found cached data data/sets/yosemite.pt\n"
     ]
    },
    {
     "name": "stderr",
     "output_type": "stream",
     "text": [
      "Train Epoch: 41 [97280/100000 (97%)]\tLoss: 0.805581: : 196it [00:33,  5.87it/s]\n",
      "notredame Test Epoch: 41 [97280/100000 (97%)]: : 196it [00:20, 11.07it/s]\n",
      "yosemite Test Epoch: 41 [0/100000 (0%)]: : 1it [00:00,  9.91it/s]"
     ]
    },
    {
     "name": "stdout",
     "output_type": "stream",
     "text": [
      "\u001b[91mTest set: Accuracy(FPR95): 0.04762000\n",
      "\u001b[0m\n"
     ]
    },
    {
     "name": "stderr",
     "output_type": "stream",
     "text": [
      "yosemite Test Epoch: 41 [97280/100000 (97%)]: : 196it [00:19, 11.45it/s]\n"
     ]
    },
    {
     "name": "stdout",
     "output_type": "stream",
     "text": [
      "\u001b[91mTest set: Accuracy(FPR95): 0.11248000\n",
      "\u001b[0m\n",
      "# Found cached data data/sets/liberty.pt\n"
     ]
    },
    {
     "name": "stderr",
     "output_type": "stream",
     "text": [
      "100%|██████████| 100000/100000 [00:00<00:00, 108858.33it/s]\n"
     ]
    },
    {
     "name": "stdout",
     "output_type": "stream",
     "text": [
      "Generating 100000 triplets\n",
      "# Found cached data data/sets/notredame.pt\n"
     ]
    },
    {
     "name": "stderr",
     "output_type": "stream",
     "text": [
      "Train Epoch: 42 [97280/100000 (97%)]\tLoss: 0.807889: : 196it [00:32,  6.10it/s]\n",
      "notredame Test Epoch: 42 [97280/100000 (97%)]: : 196it [00:19, 11.28it/s]\n",
      "yosemite Test Epoch: 42 [0/100000 (0%)]: : 1it [00:00,  9.86it/s]"
     ]
    },
    {
     "name": "stdout",
     "output_type": "stream",
     "text": [
      "# Found cached data data/sets/yosemite.pt\n",
      "\u001b[91mTest set: Accuracy(FPR95): 0.03902000\n",
      "\u001b[0m\n"
     ]
    },
    {
     "name": "stderr",
     "output_type": "stream",
     "text": [
      "yosemite Test Epoch: 42 [97280/100000 (97%)]: : 196it [00:19, 10.10it/s]\n"
     ]
    },
    {
     "name": "stdout",
     "output_type": "stream",
     "text": [
      "\u001b[91mTest set: Accuracy(FPR95): 0.10232000\n",
      "\u001b[0m\n",
      "# Found cached data data/sets/liberty.pt\n"
     ]
    },
    {
     "name": "stderr",
     "output_type": "stream",
     "text": [
      "  0%|          | 0/100000 [00:00<?, ?it/s]"
     ]
    },
    {
     "name": "stdout",
     "output_type": "stream",
     "text": [
      "Generating 100000 triplets\n"
     ]
    },
    {
     "name": "stderr",
     "output_type": "stream",
     "text": [
      "100%|██████████| 100000/100000 [00:00<00:00, 110207.37it/s]\n"
     ]
    },
    {
     "name": "stdout",
     "output_type": "stream",
     "text": [
      "# Found cached data data/sets/notredame.pt\n",
      "# Found cached data data/sets/yosemite.pt\n"
     ]
    },
    {
     "name": "stderr",
     "output_type": "stream",
     "text": [
      "Train Epoch: 43 [97280/100000 (97%)]\tLoss: 0.787765: : 196it [00:34,  5.76it/s]\n",
      "notredame Test Epoch: 43 [97280/100000 (97%)]: : 196it [00:19, 10.31it/s]\n",
      "yosemite Test Epoch: 43 [0/100000 (0%)]: : 2it [00:00, 10.08it/s]"
     ]
    },
    {
     "name": "stdout",
     "output_type": "stream",
     "text": [
      "\u001b[91mTest set: Accuracy(FPR95): 0.04676000\n",
      "\u001b[0m\n"
     ]
    },
    {
     "name": "stderr",
     "output_type": "stream",
     "text": [
      "yosemite Test Epoch: 43 [97280/100000 (97%)]: : 196it [00:19,  9.94it/s]\n"
     ]
    },
    {
     "name": "stdout",
     "output_type": "stream",
     "text": [
      "\u001b[91mTest set: Accuracy(FPR95): 0.11366000\n",
      "\u001b[0m\n",
      "# Found cached data data/sets/liberty.pt\n"
     ]
    },
    {
     "name": "stderr",
     "output_type": "stream",
     "text": [
      "  0%|          | 0/100000 [00:00<?, ?it/s]"
     ]
    },
    {
     "name": "stdout",
     "output_type": "stream",
     "text": [
      "Generating 100000 triplets\n"
     ]
    },
    {
     "name": "stderr",
     "output_type": "stream",
     "text": [
      "100%|██████████| 100000/100000 [00:00<00:00, 113353.81it/s]\n"
     ]
    },
    {
     "name": "stdout",
     "output_type": "stream",
     "text": [
      "# Found cached data data/sets/notredame.pt\n"
     ]
    },
    {
     "name": "stderr",
     "output_type": "stream",
     "text": [
      "Train Epoch: 44 [97280/100000 (97%)]\tLoss: 0.797370: : 196it [00:33,  5.92it/s]\n",
      "notredame Test Epoch: 44 [97280/100000 (97%)]: : 196it [00:21,  8.91it/s]\n",
      "yosemite Test Epoch: 44 [0/100000 (0%)]: : 1it [00:00,  9.27it/s]"
     ]
    },
    {
     "name": "stdout",
     "output_type": "stream",
     "text": [
      "# Found cached data data/sets/yosemite.pt\n",
      "\u001b[91mTest set: Accuracy(FPR95): 0.03886000\n",
      "\u001b[0m\n"
     ]
    },
    {
     "name": "stderr",
     "output_type": "stream",
     "text": [
      "yosemite Test Epoch: 44 [97280/100000 (97%)]: : 196it [00:19, 10.03it/s]\n"
     ]
    },
    {
     "name": "stdout",
     "output_type": "stream",
     "text": [
      "\u001b[91mTest set: Accuracy(FPR95): 0.09988000\n",
      "\u001b[0m\n",
      "# Found cached data data/sets/liberty.pt\n"
     ]
    },
    {
     "name": "stderr",
     "output_type": "stream",
     "text": [
      "100%|██████████| 100000/100000 [00:00<00:00, 104070.51it/s]\n"
     ]
    },
    {
     "name": "stdout",
     "output_type": "stream",
     "text": [
      "Generating 100000 triplets\n",
      "# Found cached data data/sets/notredame.pt\n"
     ]
    },
    {
     "name": "stderr",
     "output_type": "stream",
     "text": [
      "Train Epoch: 45 [97280/100000 (97%)]\tLoss: 0.763835: : 196it [00:32,  5.98it/s]\n",
      "notredame Test Epoch: 45 [97280/100000 (97%)]: : 196it [00:19, 11.47it/s]\n",
      "yosemite Test Epoch: 45 [0/100000 (0%)]: : 1it [00:00,  9.98it/s]"
     ]
    },
    {
     "name": "stdout",
     "output_type": "stream",
     "text": [
      "# Found cached data data/sets/yosemite.pt\n",
      "\u001b[91mTest set: Accuracy(FPR95): 0.03830000\n",
      "\u001b[0m\n"
     ]
    },
    {
     "name": "stderr",
     "output_type": "stream",
     "text": [
      "yosemite Test Epoch: 45 [97280/100000 (97%)]: : 196it [00:19, 10.29it/s]\n"
     ]
    },
    {
     "name": "stdout",
     "output_type": "stream",
     "text": [
      "\u001b[91mTest set: Accuracy(FPR95): 0.09704000\n",
      "\u001b[0m\n",
      "# Found cached data data/sets/liberty.pt\n"
     ]
    },
    {
     "name": "stderr",
     "output_type": "stream",
     "text": [
      "100%|██████████| 100000/100000 [00:01<00:00, 96755.65it/s]\n"
     ]
    },
    {
     "name": "stdout",
     "output_type": "stream",
     "text": [
      "Generating 100000 triplets\n",
      "# Found cached data data/sets/notredame.pt\n"
     ]
    },
    {
     "name": "stderr",
     "output_type": "stream",
     "text": [
      "Train Epoch: 46 [97280/100000 (97%)]\tLoss: 0.771377: : 196it [00:33,  5.88it/s]\n",
      "notredame Test Epoch: 46 [97280/100000 (97%)]: : 196it [00:19, 10.23it/s]\n",
      "yosemite Test Epoch: 46 [0/100000 (0%)]: : 2it [00:00, 10.09it/s]"
     ]
    },
    {
     "name": "stdout",
     "output_type": "stream",
     "text": [
      "# Found cached data data/sets/yosemite.pt\n",
      "\u001b[91mTest set: Accuracy(FPR95): 0.03788000\n",
      "\u001b[0m\n"
     ]
    },
    {
     "name": "stderr",
     "output_type": "stream",
     "text": [
      "yosemite Test Epoch: 46 [97280/100000 (97%)]: : 196it [00:19, 11.41it/s]\n"
     ]
    },
    {
     "name": "stdout",
     "output_type": "stream",
     "text": [
      "\u001b[91mTest set: Accuracy(FPR95): 0.09356000\n",
      "\u001b[0m\n",
      "# Found cached data data/sets/liberty.pt\n"
     ]
    },
    {
     "name": "stderr",
     "output_type": "stream",
     "text": [
      "100%|██████████| 100000/100000 [00:00<00:00, 115608.34it/s]\n"
     ]
    },
    {
     "name": "stdout",
     "output_type": "stream",
     "text": [
      "Generating 100000 triplets\n",
      "# Found cached data data/sets/notredame.pt\n",
      "# Found cached data data/sets/yosemite.pt\n"
     ]
    },
    {
     "name": "stderr",
     "output_type": "stream",
     "text": [
      "Train Epoch: 47 [97280/100000 (97%)]\tLoss: 0.784672: : 196it [00:32,  6.01it/s]\n",
      "notredame Test Epoch: 47 [97280/100000 (97%)]: : 196it [00:19, 10.20it/s]\n",
      "yosemite Test Epoch: 47 [0/100000 (0%)]: : 1it [00:00,  9.48it/s]"
     ]
    },
    {
     "name": "stdout",
     "output_type": "stream",
     "text": [
      "\u001b[91mTest set: Accuracy(FPR95): 0.03698000\n",
      "\u001b[0m\n"
     ]
    },
    {
     "name": "stderr",
     "output_type": "stream",
     "text": [
      "yosemite Test Epoch: 47 [97280/100000 (97%)]: : 196it [00:19, 11.20it/s]\n"
     ]
    },
    {
     "name": "stdout",
     "output_type": "stream",
     "text": [
      "\u001b[91mTest set: Accuracy(FPR95): 0.09884000\n",
      "\u001b[0m\n",
      "# Found cached data data/sets/liberty.pt\n"
     ]
    },
    {
     "name": "stderr",
     "output_type": "stream",
     "text": [
      "100%|██████████| 100000/100000 [00:00<00:00, 115604.70it/s]\n"
     ]
    },
    {
     "name": "stdout",
     "output_type": "stream",
     "text": [
      "Generating 100000 triplets\n",
      "# Found cached data data/sets/notredame.pt\n"
     ]
    },
    {
     "name": "stderr",
     "output_type": "stream",
     "text": [
      "Train Epoch: 48 [97280/100000 (97%)]\tLoss: 0.797024: : 196it [00:33,  5.91it/s]\n",
      "notredame Test Epoch: 48 [97280/100000 (97%)]: : 196it [00:23, 11.41it/s]\n",
      "yosemite Test Epoch: 48 [0/100000 (0%)]: : 1it [00:00,  9.84it/s]"
     ]
    },
    {
     "name": "stdout",
     "output_type": "stream",
     "text": [
      "# Found cached data data/sets/yosemite.pt\n",
      "\u001b[91mTest set: Accuracy(FPR95): 0.03758000\n",
      "\u001b[0m\n"
     ]
    },
    {
     "name": "stderr",
     "output_type": "stream",
     "text": [
      "yosemite Test Epoch: 48 [97280/100000 (97%)]: : 196it [00:19, 11.35it/s]\n"
     ]
    },
    {
     "name": "stdout",
     "output_type": "stream",
     "text": [
      "\u001b[91mTest set: Accuracy(FPR95): 0.09620000\n",
      "\u001b[0m\n",
      "# Found cached data data/sets/liberty.pt\n"
     ]
    },
    {
     "name": "stderr",
     "output_type": "stream",
     "text": [
      "  0%|          | 0/100000 [00:00<?, ?it/s]"
     ]
    },
    {
     "name": "stdout",
     "output_type": "stream",
     "text": [
      "Generating 100000 triplets\n"
     ]
    },
    {
     "name": "stderr",
     "output_type": "stream",
     "text": [
      "100%|██████████| 100000/100000 [00:00<00:00, 105737.47it/s]\n"
     ]
    },
    {
     "name": "stdout",
     "output_type": "stream",
     "text": [
      "# Found cached data data/sets/notredame.pt\n"
     ]
    },
    {
     "name": "stderr",
     "output_type": "stream",
     "text": [
      "Train Epoch: 49 [97280/100000 (97%)]\tLoss: 0.779143: : 196it [00:32,  5.98it/s]\n",
      "notredame Test Epoch: 49 [97280/100000 (97%)]: : 196it [00:21,  8.95it/s]\n",
      "yosemite Test Epoch: 49 [0/100000 (0%)]: : 1it [00:00,  9.51it/s]"
     ]
    },
    {
     "name": "stdout",
     "output_type": "stream",
     "text": [
      "# Found cached data data/sets/yosemite.pt\n",
      "\u001b[91mTest set: Accuracy(FPR95): 0.03704000\n",
      "\u001b[0m\n"
     ]
    },
    {
     "name": "stderr",
     "output_type": "stream",
     "text": [
      "yosemite Test Epoch: 49 [97280/100000 (97%)]: : 196it [00:22,  8.60it/s]\n"
     ]
    },
    {
     "name": "stdout",
     "output_type": "stream",
     "text": [
      "\u001b[91mTest set: Accuracy(FPR95): 0.09652000\n",
      "\u001b[0m\n",
      "# Found cached data data/sets/liberty.pt\n"
     ]
    },
    {
     "name": "stderr",
     "output_type": "stream",
     "text": [
      "100%|██████████| 100000/100000 [00:00<00:00, 105861.40it/s]\n"
     ]
    },
    {
     "name": "stdout",
     "output_type": "stream",
     "text": [
      "Generating 100000 triplets\n",
      "# Found cached data data/sets/notredame.pt\n",
      "# Found cached data data/sets/yosemite.pt\n"
     ]
    }
   ],
   "source": [
    "start = args.start_epoch\n",
    "end = start + args.epochs\n",
    "logger, file_logger = None, None\n",
    "triplet_flag = args.load_random_triplets\n",
    "from Losses import loss_DesNet\n",
    "TEST_ON_W1BS = True\n",
    "LOG_DIR = args.log_dir\n",
    "if(args.enable_logging):\n",
    "    from Loggers import Logger, FileLogger\n",
    "    logger = Logger(LOG_DIR)\n",
    "    \n",
    "suffix = '{}_{}_{}'.format(args.experiment_name, args.training_set, args.batch_reduce)\n",
    "if args.gor:\n",
    "    suffix = suffix+'_gor_alpha{:1.1f}'.format(args.alpha)\n",
    "if args.anchorswap:\n",
    "    suffix = suffix + '_as'\n",
    "if args.anchorave:\n",
    "    suffix = suffix + '_av'\n",
    "if args.fliprot:\n",
    "        suffix = suffix + '_fliprot'\n",
    "\n",
    "res_fpr_liberty = torch.zeros(end-start,1)\n",
    "res_fpr_notredame = torch.zeros(end-start, 1)\n",
    "res_fpr_yosemite = torch.zeros(end-start, 1)\n",
    "\n",
    "for epoch in range(start, end):\n",
    "\n",
    "    # iterate over test loaders and test results\n",
    "    train(train_loader, model, optimizer1, epoch, logger, triplet_flag)\n",
    "    for test_loader in test_loaders:\n",
    "        test(test_loader['dataloader'], model, epoch, logger, test_loader['name'])\n",
    "\n",
    "    #randomize train loader batches\n",
    "    train_loader, test_loaders2 = create_loaders(args.dataset_names, load_random_triplets=triplet_flag)"
   ]
  },
  {
   "cell_type": "code",
   "execution_count": null,
   "metadata": {},
   "outputs": [],
   "source": []
  },
  {
   "cell_type": "code",
   "execution_count": null,
   "metadata": {},
   "outputs": [],
   "source": []
  }
 ],
 "metadata": {
  "kernelspec": {
   "display_name": "Python 3",
   "language": "python",
   "name": "python3"
  },
  "language_info": {
   "codemirror_mode": {
    "name": "ipython",
    "version": 3
   },
   "file_extension": ".py",
   "mimetype": "text/x-python",
   "name": "python",
   "nbconvert_exporter": "python",
   "pygments_lexer": "ipython3",
   "version": "3.7.1"
  }
 },
 "nbformat": 4,
 "nbformat_minor": 2
}
