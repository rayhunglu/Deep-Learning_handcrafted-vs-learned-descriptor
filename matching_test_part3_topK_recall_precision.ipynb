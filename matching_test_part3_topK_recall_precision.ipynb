{
 "cells": [
  {
   "cell_type": "markdown",
   "metadata": {},
   "source": [
    "## HW2 Solution Part 3\n",
    "\n",
    "step1: get keypoints for each images\n",
    "\n",
    "step2: get patches for each keypoints\n",
    "\n",
    "step3: get descriptions for each keypoints (by forward pass patches to the network)\n",
    "\n",
    "step4: caculate the similarity matrices\n",
    "\n",
    "**step5**: get topK similar images for each query\n",
    "\n",
    "**step6**: draw recall vs precision curves\n",
    "\n",
    "---"
   ]
  },
  {
   "cell_type": "code",
   "execution_count": 1,
   "metadata": {},
   "outputs": [],
   "source": [
    "import torch\n",
    "import matplotlib\n",
    "import numpy as np\n",
    "import matplotlib.pyplot as plt\n",
    "%matplotlib inline  \n",
    "similarity_one2one_dir = \"similarity_one2one.pt\"\n",
    "similarity_many2many_dir = \"similarity_many2many.pt\"\n",
    "similarity_one2one = torch.load(similarity_one2one_dir)\n",
    "similarity_many2many = torch.load(similarity_many2many_dir)"
   ]
  },
  {
   "cell_type": "code",
   "execution_count": 2,
   "metadata": {},
   "outputs": [
    {
     "name": "stdout",
     "output_type": "stream",
     "text": [
      "tensor([[0.5462, 0.4141, 0.5520,  ..., 0.3474, 0.3383, 0.3259],\n",
      "        [0.3754, 0.3508, 0.3384,  ..., 0.3317, 0.3865, 0.3286],\n",
      "        [0.3039, 0.2884, 0.3108,  ..., 0.2738, 0.3317, 0.3233],\n",
      "        ...,\n",
      "        [0.3678, 0.3855, 0.3013,  ..., 0.3815, 0.2955, 0.5030],\n",
      "        [0.3587, 0.3336, 0.3745,  ..., 0.3859, 0.4483, 0.3718],\n",
      "        [0.4389, 0.3798, 0.3586,  ..., 0.4043, 0.4395, 0.3865]])\n"
     ]
    }
   ],
   "source": [
    "print(similarity_one2one.shape, similarity_many2many.shape)\n",
    "print(similarity_one2one)\n",
    "print(similarity_many2many)"
   ]
  },
  {
   "cell_type": "code",
   "execution_count": 3,
   "metadata": {},
   "outputs": [],
   "source": [
    "topk_one2one_ind   = torch.zeros(4, 35, 4)  # k, 35, k\n",
    "topk_many2many_ind = torch.zeros(4, 35, 4)  # k, 35, k\n",
    "\n",
    "for k in range(4):\n",
    "    _, topk_one2one   = torch.topk(similarity_one2one, k+1, dim = 1)\n",
    "    _, topk_many2many = torch.topk(similarity_many2many, k+1, dim = 1)\n",
    "    \n",
    "    topk_one2one_ind[k, :, :k+1] = topk_one2one + 1\n",
    "    topk_many2many_ind[k, :, :k+1] = topk_many2many + 1"
   ]
  },
  {
   "cell_type": "code",
   "execution_count": 4,
   "metadata": {},
   "outputs": [],
   "source": [
    "# read gt\n",
    "gt_dir = \"image_retrieval/ground_truth.txt\"\n",
    "gt = torch.empty(35, 4)\n",
    "with open(gt_dir, 'r') as f:\n",
    "    point = 0\n",
    "    for line in f:\n",
    "        if not line.startswith(\"q\"):\n",
    "            continue\n",
    "        one_line = line.strip().split(\"  \")\n",
    "        query_idx = int(one_line[0][1:])\n",
    "        image_idx = int(one_line[1])\n",
    "        gt[query_idx-1][point%4] = image_idx\n",
    "        point+=1"
   ]
  },
  {
   "cell_type": "code",
   "execution_count": 5,
   "metadata": {},
   "outputs": [],
   "source": [
    "P_one2one = torch.zeros(4,1)\n",
    "R_one2one = torch.zeros(4,1)\n",
    "for k in range(4):\n",
    "    P_1, R_1 = 0, 0\n",
    "    for idx in range(35):\n",
    "        for topk_idx in topk_one2one_ind[k][idx][:k+1]:\n",
    "            if int(topk_idx) in gt[idx]:\n",
    "                P_1 += 1/(k+1)/35 # sum_P /Q\n",
    "                R_1 += 1/4/35\n",
    "    P_one2one[k] = P_1\n",
    "    R_one2one[k] = R_1\n",
    "    \n",
    "P_many2many = torch.zeros(4,1)\n",
    "R_many2many = torch.zeros(4,1)\n",
    "for k in range(4):\n",
    "    P_1, R_1 = 0, 0\n",
    "    for idx in range(35):\n",
    "        for topk_idx in topk_many2many_ind[k][idx][:k+1]:\n",
    "            if int(topk_idx) in gt[idx]:\n",
    "                P_1 += 1/(k+1)/35 # sum_P /Q\n",
    "                R_1 += 1/4/35\n",
    "    P_many2many[k] = P_1\n",
    "    R_many2many[k] = R_1"
   ]
  },
  {
   "cell_type": "code",
   "execution_count": 6,
   "metadata": {},
   "outputs": [
    {
     "name": "stdout",
     "output_type": "stream",
     "text": [
      "tensor([0.7714, 0.5429, 0.4571, 0.3786])\n",
      "tensor([0.1929, 0.2714, 0.3429, 0.3786])\n"
     ]
    }
   ],
   "source": [
    "print(P_one2one[:,0])\n",
    "print(R_one2one[:,0])\n",
    "print(P_many2many[:,0])\n",
    "print(R_many2many[:,0])"
   ]
  },
  {
   "cell_type": "markdown",
   "metadata": {},
   "source": [
    "### Visualize Result"
   ]
  },
  {
   "cell_type": "code",
   "execution_count": 7,
   "metadata": {},
   "outputs": [
    {
     "data": {
      "text/plain": [
       "<matplotlib.legend.Legend at 0x7fc6af2bfc18>"
      ]
     },
     "execution_count": 7,
     "metadata": {},
     "output_type": "execute_result"
    },
    {
     "data": {
      "image/png": "[encoded data removed]",
      "text/plain": [
       "<Figure size 1080x288 with 2 Axes>"
      ]
     },
     "metadata": {
      "needs_background": "light"
     },
     "output_type": "display_data"
    }
   ],
   "source": [
    "k = [i for i in range(1, 5)]\n",
    "fig = plt.figure(figsize=(15, 4))\n",
    "plt.suptitle('Precesion & Recall vs K', fontsize=20)\n",
    "# fig.subplots_adjust(mid=0.2)\n",
    "# fig.tight_layout() \n",
    "ax1 = fig.add_subplot(121)\n",
    "plt.title('One2One Matching')\n",
    "plt.xticks([1,2,3,4])\n",
    "ax1.set_ylim(0,1)\n",
    "lns1 = ax1.plot(k, P_one2one[:,0].numpy(), \"-ro\",label=\"precesion\")\n",
    "ax2 = ax1.twinx()\n",
    "ax2.set_ylim(0,1)\n",
    "lns2 = ax2.plot(k, R_one2one[:,0].numpy(),\"--y*\",label=\"recall\")\n",
    "\n",
    "ax1.set_ylabel('Precesion')\n",
    "ax2.set_ylabel('Recall')\n",
    "ax1.set_xlabel('K')\n",
    "lns = lns1+lns2\n",
    "labs = [l.get_label() for l in lns]\n",
    "ax1.legend(lns, labs, loc=0)\n",
    "\n",
    "\n",
    "\n",
    "ax3 = fig.add_subplot(122)\n",
    "plt.title('Many2Many Matching')\n",
    "plt.xticks([1,2,3,4])\n",
    "ax3.set_ylim(0,1)\n",
    "lns3 = ax3.plot(k, P_many2many[:,0].numpy(), \"-ro\",label=\"precesion\")\n",
    "ax4 = ax3.twinx()\n",
    "ax4.set_ylim(0,1)\n",
    "ax3.set_ylabel('Precesion')\n",
    "ax4.set_ylabel('Recall')\n",
    "ax3.set_xlabel('K')\n",
    "\n",
    "# ax2.axis([0, 1, 0, 1])\n",
    "lns4 = ax4.plot(k, R_many2many[:,0].numpy(),\"--y*\",label=\"recal\")\n",
    "\n",
    "lnss = lns3+lns4\n",
    "labss = [h.get_label() for h in lnss]\n",
    "ax3.legend(lnss, labss, loc=0)\n"
   ]
  },
  {
   "cell_type": "code",
   "execution_count": 8,
   "metadata": {},
   "outputs": [
    {
     "ename": "NameError",
     "evalue": "name 'R_many2many' is not defined",
     "output_type": "error",
     "traceback": [
      "\u001b[0;31m---------------------------------------------------------------------------\u001b[0m",
      "\u001b[0;31mNameError\u001b[0m                                 Traceback (most recent call last)",
      "\u001b[0;32m<ipython-input-8-717d110b9a38>\u001b[0m in \u001b[0;36m<module>\u001b[0;34m\u001b[0m\n\u001b[1;32m     11\u001b[0m \u001b[0;32mfor\u001b[0m \u001b[0mi\u001b[0m \u001b[0;32min\u001b[0m \u001b[0mrange\u001b[0m\u001b[0;34m(\u001b[0m\u001b[0;36m4\u001b[0m\u001b[0;34m)\u001b[0m\u001b[0;34m:\u001b[0m\u001b[0;34m\u001b[0m\u001b[0;34m\u001b[0m\u001b[0m\n\u001b[1;32m     12\u001b[0m     \u001b[0max1\u001b[0m\u001b[0;34m.\u001b[0m\u001b[0mannotate\u001b[0m\u001b[0;34m(\u001b[0m\u001b[0;34m'K={}'\u001b[0m\u001b[0;34m.\u001b[0m\u001b[0mformat\u001b[0m\u001b[0;34m(\u001b[0m\u001b[0mi\u001b[0m\u001b[0;34m+\u001b[0m\u001b[0;36m1\u001b[0m\u001b[0;34m)\u001b[0m\u001b[0;34m,\u001b[0m \u001b[0mxy\u001b[0m\u001b[0;34m=\u001b[0m\u001b[0;34m(\u001b[0m\u001b[0mR_one2one\u001b[0m\u001b[0;34m[\u001b[0m\u001b[0mi\u001b[0m\u001b[0;34m,\u001b[0m\u001b[0;36m0\u001b[0m\u001b[0;34m]\u001b[0m\u001b[0;34m.\u001b[0m\u001b[0mnumpy\u001b[0m\u001b[0;34m(\u001b[0m\u001b[0;34m)\u001b[0m\u001b[0;34m,\u001b[0m \u001b[0mP_one2one\u001b[0m\u001b[0;34m[\u001b[0m\u001b[0mi\u001b[0m\u001b[0;34m,\u001b[0m\u001b[0;36m0\u001b[0m\u001b[0;34m]\u001b[0m\u001b[0;34m.\u001b[0m\u001b[0mnumpy\u001b[0m\u001b[0;34m(\u001b[0m\u001b[0;34m)\u001b[0m\u001b[0;34m)\u001b[0m\u001b[0;34m,\u001b[0m \u001b[0mtextcoords\u001b[0m\u001b[0;34m=\u001b[0m\u001b[0;34m'data'\u001b[0m\u001b[0;34m)\u001b[0m\u001b[0;34m\u001b[0m\u001b[0;34m\u001b[0m\u001b[0m\n\u001b[0;32m---> 13\u001b[0;31m     \u001b[0max1\u001b[0m\u001b[0;34m.\u001b[0m\u001b[0mannotate\u001b[0m\u001b[0;34m(\u001b[0m\u001b[0;34m'K={}'\u001b[0m\u001b[0;34m.\u001b[0m\u001b[0mformat\u001b[0m\u001b[0;34m(\u001b[0m\u001b[0mi\u001b[0m\u001b[0;34m+\u001b[0m\u001b[0;36m1\u001b[0m\u001b[0;34m)\u001b[0m\u001b[0;34m,\u001b[0m \u001b[0mxy\u001b[0m\u001b[0;34m=\u001b[0m\u001b[0;34m(\u001b[0m\u001b[0mR_many2many\u001b[0m\u001b[0;34m[\u001b[0m\u001b[0mi\u001b[0m\u001b[0;34m,\u001b[0m\u001b[0;36m0\u001b[0m\u001b[0;34m]\u001b[0m\u001b[0;34m.\u001b[0m\u001b[0mnumpy\u001b[0m\u001b[0;34m(\u001b[0m\u001b[0;34m)\u001b[0m\u001b[0;34m,\u001b[0m \u001b[0mP_many2many\u001b[0m\u001b[0;34m[\u001b[0m\u001b[0mi\u001b[0m\u001b[0;34m,\u001b[0m\u001b[0;36m0\u001b[0m\u001b[0;34m]\u001b[0m\u001b[0;34m.\u001b[0m\u001b[0mnumpy\u001b[0m\u001b[0;34m(\u001b[0m\u001b[0;34m)\u001b[0m\u001b[0;34m)\u001b[0m\u001b[0;34m,\u001b[0m \u001b[0mtextcoords\u001b[0m\u001b[0;34m=\u001b[0m\u001b[0;34m'data'\u001b[0m\u001b[0;34m)\u001b[0m\u001b[0;34m\u001b[0m\u001b[0;34m\u001b[0m\u001b[0m\n\u001b[0m\u001b[1;32m     14\u001b[0m \u001b[0mlns2\u001b[0m \u001b[0;34m=\u001b[0m \u001b[0max1\u001b[0m\u001b[0;34m.\u001b[0m\u001b[0mplot\u001b[0m\u001b[0;34m(\u001b[0m\u001b[0mR_many2many\u001b[0m\u001b[0;34m[\u001b[0m\u001b[0;34m:\u001b[0m\u001b[0;34m,\u001b[0m\u001b[0;36m0\u001b[0m\u001b[0;34m]\u001b[0m\u001b[0;34m.\u001b[0m\u001b[0mnumpy\u001b[0m\u001b[0;34m(\u001b[0m\u001b[0;34m)\u001b[0m\u001b[0;34m,\u001b[0m \u001b[0mP_many2many\u001b[0m\u001b[0;34m[\u001b[0m\u001b[0;34m:\u001b[0m\u001b[0;34m,\u001b[0m\u001b[0;36m0\u001b[0m\u001b[0;34m]\u001b[0m\u001b[0;34m.\u001b[0m\u001b[0mnumpy\u001b[0m\u001b[0;34m(\u001b[0m\u001b[0;34m)\u001b[0m\u001b[0;34m,\u001b[0m \u001b[0;34m\"-ro\"\u001b[0m\u001b[0;34m,\u001b[0m\u001b[0mlabel\u001b[0m\u001b[0;34m=\u001b[0m\u001b[0;34m\"many2many\"\u001b[0m\u001b[0;34m)\u001b[0m\u001b[0;34m\u001b[0m\u001b[0;34m\u001b[0m\u001b[0m\n\u001b[1;32m     15\u001b[0m \u001b[0mlnss\u001b[0m \u001b[0;34m=\u001b[0m \u001b[0mlns1\u001b[0m\u001b[0;34m+\u001b[0m\u001b[0mlns2\u001b[0m\u001b[0;34m\u001b[0m\u001b[0;34m\u001b[0m\u001b[0m\n",
      "\u001b[0;31mNameError\u001b[0m: name 'R_many2many' is not defined"
     ]
    },
    {
     "data": {
      "image/png": "[encoded data removed]",
      "text/plain": [
       "<Figure size 576x576 with 1 Axes>"
      ]
     },
     "metadata": {
      "needs_background": "light"
     },
     "output_type": "display_data"
    }
   ],
   "source": [
    "k = [i for i in range(1, 5)]\n",
    "fig = plt.figure(figsize=(8, 8))\n",
    "plt.suptitle('Precesion vs Recall', fontsize=20)\n",
    "ax1 = fig.add_subplot(111)\n",
    "ax1.set_xlim(0.2,0.9)\n",
    "ax1.set_ylim(0.5,1.1)\n",
    "ax1.set_ylabel('Precision')\n",
    "ax1.set_xlabel('Recall')\n",
    "ax1.grid(True)\n",
    "lns1 = ax1.plot(R_one2one[:,0].numpy(), P_one2one[:,0].numpy(), \"-go\",label=\"one2one\")\n",
    "for i in range(4):\n",
    "    ax1.annotate('K={}'.format(i+1), xy=(R_one2one[i,0].numpy(), P_one2one[i,0].numpy()), textcoords='data')\n",
    "    ax1.annotate('K={}'.format(i+1), xy=(R_many2many[i,0].numpy(), P_many2many[i,0].numpy()), textcoords='data')\n",
    "lns2 = ax1.plot(R_many2many[:,0].numpy(), P_many2many[:,0].numpy(), \"-ro\",label=\"many2many\")\n",
    "lnss = lns1+lns2\n",
    "labss = [h.get_label() for h in lnss]\n",
    "ax1.legend(lnss, labss, loc=0)\n"
   ]
  },
  {
   "cell_type": "code",
   "execution_count": null,
   "metadata": {},
   "outputs": [],
   "source": []
  },
  {
   "cell_type": "code",
   "execution_count": null,
   "metadata": {},
   "outputs": [],
   "source": []
  },
  {
   "cell_type": "code",
   "execution_count": null,
   "metadata": {},
   "outputs": [],
   "source": []
  }
 ],
 "metadata": {
  "kernelspec": {
   "display_name": "Python 3",
   "language": "python",
   "name": "python3"
  },
  "language_info": {
   "codemirror_mode": {
    "name": "ipython",
    "version": 3
   },
   "file_extension": ".py",
   "mimetype": "text/x-python",
   "name": "python",
   "nbconvert_exporter": "python",
   "pygments_lexer": "ipython3",
   "version": "3.7.1"
  }
 },
 "nbformat": 4,
 "nbformat_minor": 2
}
